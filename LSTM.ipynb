{
 "cells": [
  {
   "cell_type": "code",
   "execution_count": 1,
   "metadata": {},
   "outputs": [],
   "source": [
    "import math\n",
    "import matplotlib.pyplot as plt\n",
    "import keras\n",
    "import pandas as pd\n",
    "import numpy as np\n",
    "from keras.models import Sequential\n",
    "from keras.layers import Dense\n",
    "from keras.layers import LSTM\n",
    "from keras.layers import Dropout\n",
    "from keras.layers import *\n",
    "from sklearn.preprocessing import MinMaxScaler\n",
    "from sklearn.metrics import mean_squared_error\n",
    "from sklearn.metrics import mean_absolute_error\n",
    "from sklearn.model_selection import train_test_split\n",
    "from keras.callbacks import EarlyStopping\n"
   ]
  },
  {
   "cell_type": "code",
   "execution_count": 2,
   "metadata": {},
   "outputs": [],
   "source": [
    "df=pd.read_csv('tesla_clean.csv')"
   ]
  },
  {
   "cell_type": "code",
   "execution_count": 3,
   "metadata": {},
   "outputs": [
    {
     "data": {
      "text/html": [
       "<div>\n",
       "<style scoped>\n",
       "    .dataframe tbody tr th:only-of-type {\n",
       "        vertical-align: middle;\n",
       "    }\n",
       "\n",
       "    .dataframe tbody tr th {\n",
       "        vertical-align: top;\n",
       "    }\n",
       "\n",
       "    .dataframe thead th {\n",
       "        text-align: right;\n",
       "    }\n",
       "</style>\n",
       "<table border=\"1\" class=\"dataframe\">\n",
       "  <thead>\n",
       "    <tr style=\"text-align: right;\">\n",
       "      <th></th>\n",
       "      <th>Date</th>\n",
       "      <th>Close</th>\n",
       "    </tr>\n",
       "  </thead>\n",
       "  <tbody>\n",
       "    <tr>\n",
       "      <th>0</th>\n",
       "      <td>2019-05-13</td>\n",
       "      <td>45.402000</td>\n",
       "    </tr>\n",
       "    <tr>\n",
       "      <th>1</th>\n",
       "      <td>2019-05-14</td>\n",
       "      <td>46.462002</td>\n",
       "    </tr>\n",
       "    <tr>\n",
       "      <th>2</th>\n",
       "      <td>2019-05-15</td>\n",
       "      <td>46.389999</td>\n",
       "    </tr>\n",
       "    <tr>\n",
       "      <th>3</th>\n",
       "      <td>2019-05-16</td>\n",
       "      <td>45.666000</td>\n",
       "    </tr>\n",
       "    <tr>\n",
       "      <th>4</th>\n",
       "      <td>2019-05-17</td>\n",
       "      <td>42.206001</td>\n",
       "    </tr>\n",
       "  </tbody>\n",
       "</table>\n",
       "</div>"
      ],
      "text/plain": [
       "         Date      Close\n",
       "0  2019-05-13  45.402000\n",
       "1  2019-05-14  46.462002\n",
       "2  2019-05-15  46.389999\n",
       "3  2019-05-16  45.666000\n",
       "4  2019-05-17  42.206001"
      ]
     },
     "execution_count": 3,
     "metadata": {},
     "output_type": "execute_result"
    }
   ],
   "source": [
    "df.head()"
   ]
  },
  {
   "cell_type": "code",
   "execution_count": 4,
   "metadata": {},
   "outputs": [],
   "source": [
    "df.set_index('Date', inplace=True)"
   ]
  },
  {
   "cell_type": "code",
   "execution_count": 24,
   "metadata": {},
   "outputs": [],
   "source": [
    "training_set = df.iloc[:450,].values\n",
    "test_set = df.iloc[450:,].values"
   ]
  },
  {
   "cell_type": "code",
   "execution_count": 42,
   "metadata": {},
   "outputs": [],
   "source": [
    "# Feature Scaling\n",
    "sc = MinMaxScaler(feature_range = (0, 1))\n",
    "training_set_scaled = sc.fit_transform(training_set)\n",
    "# Creating a data structure with 60 time-steps and 1 output\n",
    "X_train = []\n",
    "y_train = []\n",
    "for i in range(60, 450):\n",
    "    X_train.append(training_set_scaled[i-60:i, 0])\n",
    "    y_train.append(training_set_scaled[i, 0])\n",
    "#0 o dong column, de tao cac vector thanh nhung dong rieng biet\n",
    "X_train, y_train = np.array(X_train), np.array(y_train)"
   ]
  },
  {
   "cell_type": "markdown",
   "metadata": {},
   "source": [
    "Reshape the data to be 3-dimensional in the form [number of samples, number of time steps, and number of features]. The LSTM model is expecting a 3-dimensional data set."
   ]
  },
  {
   "cell_type": "code",
   "execution_count": 49,
   "metadata": {},
   "outputs": [],
   "source": [
    "X_train = np.reshape(X_train, (X_train.shape[0],X_train.shape[1],1))"
   ]
  },
  {
   "cell_type": "code",
   "execution_count": 50,
   "metadata": {},
   "outputs": [
    {
     "data": {
      "text/plain": [
       "(390, 60, 1)"
      ]
     },
     "execution_count": 50,
     "metadata": {},
     "output_type": "execute_result"
    }
   ],
   "source": [
    "X_train.shape"
   ]
  },
  {
   "cell_type": "code",
   "execution_count": 51,
   "metadata": {},
   "outputs": [
    {
     "name": "stdout",
     "output_type": "stream",
     "text": [
      "Epoch 1/100\n",
      "13/13 [==============================] - 8s 108ms/step - loss: 0.1341\n",
      "Epoch 2/100\n",
      "13/13 [==============================] - 1s 102ms/step - loss: 0.0103\n",
      "Epoch 3/100\n",
      "13/13 [==============================] - 1s 100ms/step - loss: 0.0061\n",
      "Epoch 4/100\n",
      "13/13 [==============================] - 1s 103ms/step - loss: 0.0055\n",
      "Epoch 5/100\n",
      "13/13 [==============================] - 1s 102ms/step - loss: 0.0062\n",
      "Epoch 6/100\n",
      "13/13 [==============================] - 1s 99ms/step - loss: 0.0036\n",
      "Epoch 7/100\n",
      "13/13 [==============================] - 1s 101ms/step - loss: 0.0073\n",
      "Epoch 8/100\n",
      "13/13 [==============================] - 1s 100ms/step - loss: 0.0038\n",
      "Epoch 9/100\n",
      "13/13 [==============================] - 1s 97ms/step - loss: 0.0043\n",
      "Epoch 10/100\n",
      "13/13 [==============================] - 1s 100ms/step - loss: 0.0063\n",
      "Epoch 11/100\n",
      "13/13 [==============================] - 1s 97ms/step - loss: 0.0056\n",
      "Epoch 12/100\n",
      "13/13 [==============================] - 1s 102ms/step - loss: 0.0063\n",
      "Epoch 13/100\n",
      "13/13 [==============================] - 1s 99ms/step - loss: 0.0050\n",
      "Epoch 14/100\n",
      "13/13 [==============================] - 1s 99ms/step - loss: 0.0048\n",
      "Epoch 15/100\n",
      "13/13 [==============================] - 1s 112ms/step - loss: 0.0044\n",
      "Epoch 16/100\n",
      "13/13 [==============================] - 1s 102ms/step - loss: 0.0038\n",
      "Epoch 17/100\n",
      "13/13 [==============================] - 1s 99ms/step - loss: 0.0039\n",
      "Epoch 18/100\n",
      "13/13 [==============================] - 1s 98ms/step - loss: 0.0047\n",
      "Epoch 19/100\n",
      "13/13 [==============================] - 1s 103ms/step - loss: 0.0041\n",
      "Epoch 20/100\n",
      "13/13 [==============================] - 1s 107ms/step - loss: 0.0040\n",
      "Epoch 21/100\n",
      "13/13 [==============================] - 1s 104ms/step - loss: 0.0039\n",
      "Epoch 22/100\n",
      "13/13 [==============================] - 2s 117ms/step - loss: 0.0045\n",
      "Epoch 23/100\n",
      "13/13 [==============================] - 1s 106ms/step - loss: 0.0039\n",
      "Epoch 24/100\n",
      "13/13 [==============================] - 1s 101ms/step - loss: 0.0036\n",
      "Epoch 25/100\n",
      "13/13 [==============================] - 1s 103ms/step - loss: 0.0032\n",
      "Epoch 26/100\n",
      "13/13 [==============================] - 1s 105ms/step - loss: 0.0041\n",
      "Epoch 27/100\n",
      "13/13 [==============================] - 1s 104ms/step - loss: 0.0037\n",
      "Epoch 28/100\n",
      "13/13 [==============================] - 1s 106ms/step - loss: 0.0043\n",
      "Epoch 29/100\n",
      "13/13 [==============================] - 1s 115ms/step - loss: 0.0044\n",
      "Epoch 30/100\n",
      "13/13 [==============================] - 1s 106ms/step - loss: 0.0038\n",
      "Epoch 31/100\n",
      "13/13 [==============================] - 1s 103ms/step - loss: 0.0028\n",
      "Epoch 32/100\n",
      "13/13 [==============================] - 2s 116ms/step - loss: 0.0053\n",
      "Epoch 33/100\n",
      "13/13 [==============================] - 1s 111ms/step - loss: 0.0040\n",
      "Epoch 34/100\n",
      "13/13 [==============================] - 1s 113ms/step - loss: 0.0032\n",
      "Epoch 35/100\n",
      "13/13 [==============================] - 1s 108ms/step - loss: 0.0032\n",
      "Epoch 36/100\n",
      "13/13 [==============================] - 1s 107ms/step - loss: 0.0028\n",
      "Epoch 37/100\n",
      "13/13 [==============================] - 1s 112ms/step - loss: 0.0034\n",
      "Epoch 38/100\n",
      "13/13 [==============================] - 2s 118ms/step - loss: 0.0039\n",
      "Epoch 39/100\n",
      "13/13 [==============================] - 1s 114ms/step - loss: 0.0056\n",
      "Epoch 40/100\n",
      "13/13 [==============================] - 1s 113ms/step - loss: 0.0034\n",
      "Epoch 41/100\n",
      "13/13 [==============================] - 1s 109ms/step - loss: 0.0039\n",
      "Epoch 42/100\n",
      "13/13 [==============================] - 1s 107ms/step - loss: 0.0037\n",
      "Epoch 43/100\n",
      "13/13 [==============================] - 1s 109ms/step - loss: 0.0026\n",
      "Epoch 44/100\n",
      "13/13 [==============================] - 1s 111ms/step - loss: 0.0028\n",
      "Epoch 45/100\n",
      "13/13 [==============================] - 2s 122ms/step - loss: 0.0024\n",
      "Epoch 46/100\n",
      "13/13 [==============================] - 2s 124ms/step - loss: 0.0031\n",
      "Epoch 47/100\n",
      "13/13 [==============================] - 1s 111ms/step - loss: 0.0024\n",
      "Epoch 48/100\n",
      "13/13 [==============================] - 1s 107ms/step - loss: 0.0037\n",
      "Epoch 49/100\n",
      "13/13 [==============================] - 1s 106ms/step - loss: 0.0027\n",
      "Epoch 50/100\n",
      "13/13 [==============================] - 1s 111ms/step - loss: 0.0027\n",
      "Epoch 51/100\n",
      "13/13 [==============================] - 1s 111ms/step - loss: 0.0027\n",
      "Epoch 52/100\n",
      "13/13 [==============================] - 2s 129ms/step - loss: 0.0033\n",
      "Epoch 53/100\n",
      "13/13 [==============================] - 1s 106ms/step - loss: 0.0028\n",
      "Epoch 54/100\n",
      "13/13 [==============================] - 1s 101ms/step - loss: 0.0034\n",
      "Epoch 55/100\n",
      "13/13 [==============================] - 1s 102ms/step - loss: 0.0045\n",
      "Epoch 56/100\n",
      "13/13 [==============================] - 1s 102ms/step - loss: 0.0029\n",
      "Epoch 57/100\n",
      "13/13 [==============================] - 2s 135ms/step - loss: 0.0032\n",
      "Epoch 58/100\n",
      "13/13 [==============================] - 3s 214ms/step - loss: 0.0029\n",
      "Epoch 59/100\n",
      "13/13 [==============================] - 2s 148ms/step - loss: 0.0032\n",
      "Epoch 60/100\n",
      "13/13 [==============================] - 3s 194ms/step - loss: 0.0024\n",
      "Epoch 61/100\n",
      "13/13 [==============================] - 2s 177ms/step - loss: 0.0027\n",
      "Epoch 62/100\n",
      "13/13 [==============================] - 2s 116ms/step - loss: 0.0029\n",
      "Epoch 63/100\n",
      "13/13 [==============================] - 2s 127ms/step - loss: 0.0035\n",
      "Epoch 64/100\n",
      "13/13 [==============================] - 2s 122ms/step - loss: 0.0022\n",
      "Epoch 65/100\n",
      "13/13 [==============================] - 2s 198ms/step - loss: 0.0032\n",
      "Epoch 66/100\n",
      "13/13 [==============================] - 2s 121ms/step - loss: 0.0025\n",
      "Epoch 67/100\n",
      "13/13 [==============================] - 2s 130ms/step - loss: 0.0025\n",
      "Epoch 68/100\n",
      "13/13 [==============================] - 2s 197ms/step - loss: 0.0024\n",
      "Epoch 69/100\n",
      "13/13 [==============================] - 2s 126ms/step - loss: 0.0032\n",
      "Epoch 70/100\n",
      "13/13 [==============================] - 2s 164ms/step - loss: 0.0029\n",
      "Epoch 71/100\n",
      "13/13 [==============================] - 2s 123ms/step - loss: 0.0019\n",
      "Epoch 72/100\n",
      "13/13 [==============================] - 2s 149ms/step - loss: 0.0030\n",
      "Epoch 73/100\n",
      "13/13 [==============================] - 2s 134ms/step - loss: 0.0023\n",
      "Epoch 74/100\n",
      "13/13 [==============================] - 2s 121ms/step - loss: 0.0028\n",
      "Epoch 75/100\n",
      "13/13 [==============================] - 2s 120ms/step - loss: 0.0020\n",
      "Epoch 76/100\n",
      "13/13 [==============================] - 2s 116ms/step - loss: 0.0035\n",
      "Epoch 77/100\n",
      "13/13 [==============================] - 2s 115ms/step - loss: 0.0031\n",
      "Epoch 78/100\n",
      "13/13 [==============================] - 2s 116ms/step - loss: 0.0026\n",
      "Epoch 79/100\n",
      "13/13 [==============================] - 2s 139ms/step - loss: 0.0021\n",
      "Epoch 80/100\n",
      "13/13 [==============================] - 2s 172ms/step - loss: 0.0027\n",
      "Epoch 81/100\n",
      "13/13 [==============================] - 2s 117ms/step - loss: 0.0026\n",
      "Epoch 82/100\n",
      "13/13 [==============================] - 2s 117ms/step - loss: 0.0019\n",
      "Epoch 83/100\n",
      "13/13 [==============================] - 2s 116ms/step - loss: 0.0026\n",
      "Epoch 84/100\n",
      "13/13 [==============================] - 2s 119ms/step - loss: 0.0028\n",
      "Epoch 85/100\n",
      "13/13 [==============================] - 2s 118ms/step - loss: 0.0028\n",
      "Epoch 86/100\n",
      "13/13 [==============================] - 2s 124ms/step - loss: 0.0021\n",
      "Epoch 87/100\n",
      "13/13 [==============================] - 2s 116ms/step - loss: 0.0021\n",
      "Epoch 88/100\n",
      "13/13 [==============================] - 2s 117ms/step - loss: 0.0026\n",
      "Epoch 89/100\n",
      "13/13 [==============================] - 2s 121ms/step - loss: 0.0017\n",
      "Epoch 90/100\n",
      "13/13 [==============================] - 1s 115ms/step - loss: 0.0023\n",
      "Epoch 91/100\n",
      "13/13 [==============================] - 2s 118ms/step - loss: 0.0027\n",
      "Epoch 92/100\n",
      "13/13 [==============================] - 2s 139ms/step - loss: 0.0033\n",
      "Epoch 93/100\n",
      "13/13 [==============================] - 1s 105ms/step - loss: 0.0023\n",
      "Epoch 94/100\n",
      "13/13 [==============================] - 2s 122ms/step - loss: 0.0027\n",
      "Epoch 95/100\n",
      "13/13 [==============================] - 2s 116ms/step - loss: 0.0027\n",
      "Epoch 96/100\n",
      "13/13 [==============================] - 1s 107ms/step - loss: 0.0027\n",
      "Epoch 97/100\n",
      "13/13 [==============================] - 1s 110ms/step - loss: 0.0018\n",
      "Epoch 98/100\n",
      "13/13 [==============================] - 1s 112ms/step - loss: 0.0027\n",
      "Epoch 99/100\n"
     ]
    },
    {
     "name": "stdout",
     "output_type": "stream",
     "text": [
      "13/13 [==============================] - 1s 102ms/step - loss: 0.0024\n",
      "Epoch 100/100\n",
      "13/13 [==============================] - 2s 116ms/step - loss: 0.0020\n"
     ]
    },
    {
     "data": {
      "text/plain": [
       "<tensorflow.python.keras.callbacks.History at 0x7fd223b6cfd0>"
      ]
     },
     "execution_count": 51,
     "metadata": {},
     "output_type": "execute_result"
    }
   ],
   "source": [
    "model = Sequential()\n",
    "#Adding the first LSTM layer and some Dropout regularisation\n",
    "model.add(LSTM(units = 50, return_sequences = True, input_shape = (X_train.shape[1], 1)))\n",
    "model.add(Dropout(0.2))\n",
    "# Adding a second LSTM layer and some Dropout regularisation\n",
    "model.add(LSTM(units = 50, return_sequences = True))\n",
    "model.add(Dropout(0.2))\n",
    "# Adding a third LSTM layer and some Dropout regularisation\n",
    "model.add(LSTM(units = 50, return_sequences = True))\n",
    "model.add(Dropout(0.2))\n",
    "# Adding a fourth LSTM layer and some Dropout regularisation\n",
    "model.add(LSTM(units = 50))\n",
    "model.add(Dropout(0.2))\n",
    "# Adding the output layer\n",
    "model.add(Dense(units = 1))\n",
    "\n",
    "# Compiling the RNN\n",
    "model.compile(optimizer = 'adam', loss = 'mean_squared_error')\n",
    "\n",
    "# Fitting the RNN to the Training set\n",
    "model.fit(X_train, y_train, epochs = 100, batch_size = 32)"
   ]
  },
  {
   "cell_type": "code",
   "execution_count": 47,
   "metadata": {},
   "outputs": [
    {
     "data": {
      "text/plain": [
       "(390,)"
      ]
     },
     "execution_count": 47,
     "metadata": {},
     "output_type": "execute_result"
    }
   ],
   "source": []
  },
  {
   "cell_type": "code",
   "execution_count": null,
   "metadata": {},
   "outputs": [],
   "source": []
  }
 ],
 "metadata": {
  "kernelspec": {
   "display_name": "Python 3",
   "language": "python",
   "name": "python3"
  },
  "language_info": {
   "codemirror_mode": {
    "name": "ipython",
    "version": 3
   },
   "file_extension": ".py",
   "mimetype": "text/x-python",
   "name": "python",
   "nbconvert_exporter": "python",
   "pygments_lexer": "ipython3",
   "version": "3.7.6"
  }
 },
 "nbformat": 4,
 "nbformat_minor": 4
}
