{
 "cells": [
  {
   "cell_type": "code",
   "execution_count": 1,
   "metadata": {},
   "outputs": [],
   "source": [
    "import math\n",
    "import matplotlib.pyplot as plt\n",
    "import keras\n",
    "import pandas as pd\n",
    "import numpy as np\n",
    "from keras.models import Sequential\n",
    "from keras.layers import Dense\n",
    "from keras.layers import LSTM\n",
    "from keras.layers import Dropout\n",
    "from keras.layers import *\n",
    "from sklearn.preprocessing import MinMaxScaler\n",
    "from sklearn.metrics import mean_squared_error\n",
    "from sklearn.metrics import mean_absolute_error\n",
    "from sklearn.model_selection import train_test_split\n",
    "from keras.callbacks import EarlyStopping\n"
   ]
  },
  {
   "cell_type": "code",
   "execution_count": 2,
   "metadata": {},
   "outputs": [],
   "source": [
    "df=pd.read_csv('tesla_clean.csv')"
   ]
  },
  {
   "cell_type": "code",
   "execution_count": 3,
   "metadata": {},
   "outputs": [
    {
     "data": {
      "text/plain": [
       "(505, 2)"
      ]
     },
     "execution_count": 3,
     "metadata": {},
     "output_type": "execute_result"
    }
   ],
   "source": [
    "df.shape"
   ]
  },
  {
   "cell_type": "code",
   "execution_count": 4,
   "metadata": {
    "scrolled": true
   },
   "outputs": [
    {
     "data": {
      "text/html": [
       "<div>\n",
       "<style scoped>\n",
       "    .dataframe tbody tr th:only-of-type {\n",
       "        vertical-align: middle;\n",
       "    }\n",
       "\n",
       "    .dataframe tbody tr th {\n",
       "        vertical-align: top;\n",
       "    }\n",
       "\n",
       "    .dataframe thead th {\n",
       "        text-align: right;\n",
       "    }\n",
       "</style>\n",
       "<table border=\"1\" class=\"dataframe\">\n",
       "  <thead>\n",
       "    <tr style=\"text-align: right;\">\n",
       "      <th></th>\n",
       "      <th>Date</th>\n",
       "      <th>Close</th>\n",
       "    </tr>\n",
       "  </thead>\n",
       "  <tbody>\n",
       "    <tr>\n",
       "      <th>0</th>\n",
       "      <td>2019-05-13</td>\n",
       "      <td>45.402000</td>\n",
       "    </tr>\n",
       "    <tr>\n",
       "      <th>1</th>\n",
       "      <td>2019-05-14</td>\n",
       "      <td>46.462002</td>\n",
       "    </tr>\n",
       "    <tr>\n",
       "      <th>2</th>\n",
       "      <td>2019-05-15</td>\n",
       "      <td>46.389999</td>\n",
       "    </tr>\n",
       "    <tr>\n",
       "      <th>3</th>\n",
       "      <td>2019-05-16</td>\n",
       "      <td>45.666000</td>\n",
       "    </tr>\n",
       "    <tr>\n",
       "      <th>4</th>\n",
       "      <td>2019-05-17</td>\n",
       "      <td>42.206001</td>\n",
       "    </tr>\n",
       "  </tbody>\n",
       "</table>\n",
       "</div>"
      ],
      "text/plain": [
       "         Date      Close\n",
       "0  2019-05-13  45.402000\n",
       "1  2019-05-14  46.462002\n",
       "2  2019-05-15  46.389999\n",
       "3  2019-05-16  45.666000\n",
       "4  2019-05-17  42.206001"
      ]
     },
     "execution_count": 4,
     "metadata": {},
     "output_type": "execute_result"
    }
   ],
   "source": [
    "df.head()"
   ]
  },
  {
   "cell_type": "code",
   "execution_count": 5,
   "metadata": {},
   "outputs": [],
   "source": [
    "df.set_index('Date', inplace=True)"
   ]
  },
  {
   "cell_type": "code",
   "execution_count": 6,
   "metadata": {},
   "outputs": [],
   "source": [
    "#split data to train and test set\n",
    "training_set = df.iloc[:450].values\n",
    "test_set = df.iloc[450:].values"
   ]
  },
  {
   "cell_type": "code",
   "execution_count": 7,
   "metadata": {},
   "outputs": [],
   "source": [
    "# Feature Scaling\n",
    "sc = MinMaxScaler(feature_range = (0, 1))\n",
    "training_set_scaled = sc.fit_transform(training_set)\n",
    "# Creating a data structure with 60 time-steps and 1 output\n",
    "X_train = []\n",
    "y_train = []\n",
    "for i in range(60, 450):\n",
    "    X_train.append(training_set_scaled[i-60:i, 0])\n",
    "    y_train.append(training_set_scaled[i, 0])\n"
   ]
  },
  {
   "cell_type": "code",
   "execution_count": 8,
   "metadata": {},
   "outputs": [],
   "source": [
    "#0 o dong column, de tao cac vector thanh nhung dong rieng biet\n",
    "X_train, y_train = np.array(X_train), np.array(y_train)"
   ]
  },
  {
   "cell_type": "code",
   "execution_count": 9,
   "metadata": {},
   "outputs": [],
   "source": [
    "#save numpy to csv to do gridsearch later.\n",
    "np.savetxt(\"Xtrain.csv\", X_train, delimiter=\",\")\n",
    "np.savetxt(\"ytrain.csv\", y_train, delimiter=\",\")"
   ]
  },
  {
   "cell_type": "markdown",
   "metadata": {},
   "source": [
    "Reshape the data to be 3-dimensional in the form [number of samples, number of time steps, and number of features]. The LSTM model is expecting a 3-dimensional data set."
   ]
  },
  {
   "cell_type": "code",
   "execution_count": 10,
   "metadata": {},
   "outputs": [],
   "source": [
    "X_train = np.reshape(X_train, (X_train.shape[0],X_train.shape[1],1))"
   ]
  },
  {
   "cell_type": "code",
   "execution_count": 11,
   "metadata": {},
   "outputs": [
    {
     "data": {
      "text/plain": [
       "(390, 60, 1)"
      ]
     },
     "execution_count": 11,
     "metadata": {},
     "output_type": "execute_result"
    }
   ],
   "source": [
    "X_train.shape"
   ]
  },
  {
   "cell_type": "markdown",
   "metadata": {},
   "source": [
    "I will create a simple model with 4 LSTM layers and 1 output layer"
   ]
  },
  {
   "cell_type": "code",
   "execution_count": 12,
   "metadata": {},
   "outputs": [
    {
     "name": "stdout",
     "output_type": "stream",
     "text": [
      "Epoch 1/200\n",
      "13/13 [==============================] - 8s 105ms/step - loss: 0.0961\n",
      "Epoch 2/200\n",
      "13/13 [==============================] - 1s 107ms/step - loss: 0.0109\n",
      "Epoch 3/200\n",
      "13/13 [==============================] - 1s 106ms/step - loss: 0.0108\n",
      "Epoch 4/200\n",
      "13/13 [==============================] - 1s 100ms/step - loss: 0.0069\n",
      "Epoch 5/200\n",
      "13/13 [==============================] - 1s 92ms/step - loss: 0.0045\n",
      "Epoch 6/200\n",
      "13/13 [==============================] - 1s 99ms/step - loss: 0.0052\n",
      "Epoch 7/200\n",
      "13/13 [==============================] - 2s 122ms/step - loss: 0.0045\n",
      "Epoch 8/200\n",
      "13/13 [==============================] - 1s 106ms/step - loss: 0.0056\n",
      "Epoch 9/200\n",
      "13/13 [==============================] - 1s 94ms/step - loss: 0.0053\n",
      "Epoch 10/200\n",
      "13/13 [==============================] - 1s 94ms/step - loss: 0.0051\n",
      "Epoch 11/200\n",
      "13/13 [==============================] - 1s 94ms/step - loss: 0.0050\n",
      "Epoch 12/200\n",
      "13/13 [==============================] - 1s 92ms/step - loss: 0.0044\n",
      "Epoch 13/200\n",
      "13/13 [==============================] - 1s 91ms/step - loss: 0.0046\n",
      "Epoch 14/200\n",
      "13/13 [==============================] - 1s 94ms/step - loss: 0.0059\n",
      "Epoch 15/200\n",
      "13/13 [==============================] - 1s 99ms/step - loss: 0.0039\n",
      "Epoch 16/200\n",
      "13/13 [==============================] - 1s 89ms/step - loss: 0.0042\n",
      "Epoch 17/200\n",
      "13/13 [==============================] - 1s 90ms/step - loss: 0.0042\n",
      "Epoch 18/200\n",
      "13/13 [==============================] - 1s 90ms/step - loss: 0.0046\n",
      "Epoch 19/200\n",
      "13/13 [==============================] - 2s 165ms/step - loss: 0.0041\n",
      "Epoch 20/200\n",
      "13/13 [==============================] - 1s 105ms/step - loss: 0.0048\n",
      "Epoch 21/200\n",
      "13/13 [==============================] - 1s 107ms/step - loss: 0.0046\n",
      "Epoch 22/200\n",
      "13/13 [==============================] - 1s 97ms/step - loss: 0.0039\n",
      "Epoch 23/200\n",
      "13/13 [==============================] - 2s 165ms/step - loss: 0.0043\n",
      "Epoch 24/200\n",
      "13/13 [==============================] - 2s 155ms/step - loss: 0.0040\n",
      "Epoch 25/200\n",
      "13/13 [==============================] - 2s 147ms/step - loss: 0.0039\n",
      "Epoch 26/200\n",
      "13/13 [==============================] - 2s 162ms/step - loss: 0.0042\n",
      "Epoch 27/200\n",
      "13/13 [==============================] - 2s 143ms/step - loss: 0.0059\n",
      "Epoch 28/200\n",
      "13/13 [==============================] - 2s 149ms/step - loss: 0.0039\n",
      "Epoch 29/200\n",
      "13/13 [==============================] - 2s 167ms/step - loss: 0.0028\n",
      "Epoch 30/200\n",
      "13/13 [==============================] - 2s 174ms/step - loss: 0.0039\n",
      "Epoch 31/200\n",
      "13/13 [==============================] - 2s 173ms/step - loss: 0.0049\n",
      "Epoch 32/200\n",
      "13/13 [==============================] - 1s 109ms/step - loss: 0.0038\n",
      "Epoch 33/200\n",
      "13/13 [==============================] - 1s 91ms/step - loss: 0.0042\n",
      "Epoch 34/200\n",
      "13/13 [==============================] - 1s 102ms/step - loss: 0.0058\n",
      "Epoch 35/200\n",
      "13/13 [==============================] - 2s 134ms/step - loss: 0.0044\n",
      "Epoch 36/200\n",
      "13/13 [==============================] - 1s 106ms/step - loss: 0.0036\n",
      "Epoch 37/200\n",
      "13/13 [==============================] - 1s 107ms/step - loss: 0.0034\n",
      "Epoch 38/200\n",
      "13/13 [==============================] - 1s 98ms/step - loss: 0.0037\n",
      "Epoch 39/200\n",
      "13/13 [==============================] - 1s 90ms/step - loss: 0.0032\n",
      "Epoch 40/200\n",
      "13/13 [==============================] - 1s 95ms/step - loss: 0.0029\n",
      "Epoch 41/200\n",
      "13/13 [==============================] - 1s 88ms/step - loss: 0.0028\n",
      "Epoch 42/200\n",
      "13/13 [==============================] - 1s 86ms/step - loss: 0.0028\n",
      "Epoch 43/200\n",
      "13/13 [==============================] - 1s 89ms/step - loss: 0.0032\n",
      "Epoch 44/200\n",
      "13/13 [==============================] - 1s 105ms/step - loss: 0.0029\n",
      "Epoch 45/200\n",
      "13/13 [==============================] - 1s 99ms/step - loss: 0.0034\n",
      "Epoch 46/200\n",
      "13/13 [==============================] - 2s 124ms/step - loss: 0.0028\n",
      "Epoch 47/200\n",
      "13/13 [==============================] - 1s 90ms/step - loss: 0.0036\n",
      "Epoch 48/200\n",
      "13/13 [==============================] - 1s 92ms/step - loss: 0.0034\n",
      "Epoch 49/200\n",
      "13/13 [==============================] - 1s 91ms/step - loss: 0.0035\n",
      "Epoch 50/200\n",
      "13/13 [==============================] - 1s 89ms/step - loss: 0.0027\n",
      "Epoch 51/200\n",
      "13/13 [==============================] - 1s 96ms/step - loss: 0.0020\n",
      "Epoch 52/200\n",
      "13/13 [==============================] - 1s 99ms/step - loss: 0.0029\n",
      "Epoch 53/200\n",
      "13/13 [==============================] - 1s 110ms/step - loss: 0.0025\n",
      "Epoch 54/200\n",
      "13/13 [==============================] - 1s 106ms/step - loss: 0.0028\n",
      "Epoch 55/200\n",
      "13/13 [==============================] - 1s 106ms/step - loss: 0.0034\n",
      "Epoch 56/200\n",
      "13/13 [==============================] - 1s 98ms/step - loss: 0.0025\n",
      "Epoch 57/200\n",
      "13/13 [==============================] - 1s 99ms/step - loss: 0.0029\n",
      "Epoch 58/200\n",
      "13/13 [==============================] - 1s 106ms/step - loss: 0.0027\n",
      "Epoch 59/200\n",
      "13/13 [==============================] - 1s 110ms/step - loss: 0.0026\n",
      "Epoch 60/200\n",
      "13/13 [==============================] - 1s 104ms/step - loss: 0.0026\n",
      "Epoch 61/200\n",
      "13/13 [==============================] - 1s 102ms/step - loss: 0.0034\n",
      "Epoch 62/200\n",
      "13/13 [==============================] - 1s 105ms/step - loss: 0.0030\n",
      "Epoch 63/200\n",
      "13/13 [==============================] - 2s 127ms/step - loss: 0.0028\n",
      "Epoch 64/200\n",
      "13/13 [==============================] - 1s 100ms/step - loss: 0.0033\n",
      "Epoch 65/200\n",
      "13/13 [==============================] - 1s 95ms/step - loss: 0.0030\n",
      "Epoch 66/200\n",
      "13/13 [==============================] - 2s 116ms/step - loss: 0.0036\n",
      "Epoch 67/200\n",
      "13/13 [==============================] - 2s 120ms/step - loss: 0.0034\n",
      "Epoch 68/200\n",
      "13/13 [==============================] - 1s 101ms/step - loss: 0.0019 0s - loss:\n",
      "Epoch 69/200\n",
      "13/13 [==============================] - 2s 118ms/step - loss: 0.0023\n",
      "Epoch 70/200\n",
      "13/13 [==============================] - 2s 128ms/step - loss: 0.0021\n",
      "Epoch 71/200\n",
      "13/13 [==============================] - 2s 147ms/step - loss: 0.0025\n",
      "Epoch 72/200\n",
      "13/13 [==============================] - 2s 187ms/step - loss: 0.0023\n",
      "Epoch 73/200\n",
      "13/13 [==============================] - 2s 159ms/step - loss: 0.0023\n",
      "Epoch 74/200\n",
      "13/13 [==============================] - 2s 168ms/step - loss: 0.0026\n",
      "Epoch 75/200\n",
      "13/13 [==============================] - 2s 169ms/step - loss: 0.0021\n",
      "Epoch 76/200\n",
      "13/13 [==============================] - 1s 97ms/step - loss: 0.0024\n",
      "Epoch 77/200\n",
      "13/13 [==============================] - 1s 104ms/step - loss: 0.0024\n",
      "Epoch 78/200\n",
      "13/13 [==============================] - 2s 115ms/step - loss: 0.0031\n",
      "Epoch 79/200\n",
      "13/13 [==============================] - 1s 110ms/step - loss: 0.0024\n",
      "Epoch 80/200\n",
      "13/13 [==============================] - 1s 89ms/step - loss: 0.0026\n",
      "Epoch 81/200\n",
      "13/13 [==============================] - 1s 109ms/step - loss: 0.0029\n",
      "Epoch 82/200\n",
      "13/13 [==============================] - 1s 112ms/step - loss: 0.0024\n",
      "Epoch 83/200\n",
      "13/13 [==============================] - 1s 86ms/step - loss: 0.0029\n",
      "Epoch 84/200\n",
      "13/13 [==============================] - 1s 86ms/step - loss: 0.0028\n",
      "Epoch 85/200\n",
      "13/13 [==============================] - 1s 90ms/step - loss: 0.0021\n",
      "Epoch 86/200\n",
      "13/13 [==============================] - 1s 88ms/step - loss: 0.0030\n",
      "Epoch 87/200\n",
      "13/13 [==============================] - 1s 84ms/step - loss: 0.0023\n",
      "Epoch 88/200\n",
      "13/13 [==============================] - 1s 83ms/step - loss: 0.0025\n",
      "Epoch 89/200\n",
      "13/13 [==============================] - 1s 86ms/step - loss: 0.0022\n",
      "Epoch 90/200\n",
      "13/13 [==============================] - 1s 88ms/step - loss: 0.0040\n",
      "Epoch 91/200\n",
      "13/13 [==============================] - 1s 86ms/step - loss: 0.0040\n",
      "Epoch 92/200\n",
      "13/13 [==============================] - 1s 84ms/step - loss: 0.0026\n",
      "Epoch 93/200\n",
      "13/13 [==============================] - 1s 82ms/step - loss: 0.0024\n",
      "Epoch 94/200\n",
      "13/13 [==============================] - 1s 84ms/step - loss: 0.0027\n",
      "Epoch 95/200\n",
      "13/13 [==============================] - 1s 84ms/step - loss: 0.0022\n",
      "Epoch 96/200\n",
      "13/13 [==============================] - 1s 92ms/step - loss: 0.0024\n",
      "Epoch 97/200\n",
      "13/13 [==============================] - 1s 90ms/step - loss: 0.0022\n",
      "Epoch 98/200\n",
      "13/13 [==============================] - 1s 91ms/step - loss: 0.0021\n",
      "Epoch 99/200\n",
      "13/13 [==============================] - 1s 85ms/step - loss: 0.0027\n",
      "Epoch 100/200\n"
     ]
    },
    {
     "name": "stdout",
     "output_type": "stream",
     "text": [
      "13/13 [==============================] - 1s 94ms/step - loss: 0.0021\n",
      "Epoch 101/200\n",
      "13/13 [==============================] - 1s 86ms/step - loss: 0.0027\n",
      "Epoch 102/200\n",
      "13/13 [==============================] - 1s 87ms/step - loss: 0.0026\n",
      "Epoch 103/200\n",
      "13/13 [==============================] - 1s 80ms/step - loss: 0.0023\n",
      "Epoch 104/200\n",
      "13/13 [==============================] - 1s 83ms/step - loss: 0.0026\n",
      "Epoch 105/200\n",
      "13/13 [==============================] - 1s 83ms/step - loss: 0.0022\n",
      "Epoch 106/200\n",
      "13/13 [==============================] - 1s 82ms/step - loss: 0.0018\n",
      "Epoch 107/200\n",
      "13/13 [==============================] - 1s 82ms/step - loss: 0.0025\n",
      "Epoch 108/200\n",
      "13/13 [==============================] - 1s 82ms/step - loss: 0.0022\n",
      "Epoch 109/200\n",
      "13/13 [==============================] - 1s 91ms/step - loss: 0.0025\n",
      "Epoch 110/200\n",
      "13/13 [==============================] - 1s 93ms/step - loss: 0.0017\n",
      "Epoch 111/200\n",
      "13/13 [==============================] - 1s 94ms/step - loss: 0.0028\n",
      "Epoch 112/200\n",
      "13/13 [==============================] - 1s 90ms/step - loss: 0.0031\n",
      "Epoch 113/200\n",
      "13/13 [==============================] - 1s 109ms/step - loss: 0.0025\n",
      "Epoch 114/200\n",
      "13/13 [==============================] - 1s 115ms/step - loss: 0.0023\n",
      "Epoch 115/200\n",
      "13/13 [==============================] - 1s 86ms/step - loss: 0.0022\n",
      "Epoch 116/200\n",
      "13/13 [==============================] - 1s 86ms/step - loss: 0.0021\n",
      "Epoch 117/200\n",
      "13/13 [==============================] - 1s 85ms/step - loss: 0.0023\n",
      "Epoch 118/200\n",
      "13/13 [==============================] - 1s 79ms/step - loss: 0.0022\n",
      "Epoch 119/200\n",
      "13/13 [==============================] - 1s 81ms/step - loss: 0.0029\n",
      "Epoch 120/200\n",
      "13/13 [==============================] - 1s 82ms/step - loss: 0.0023\n",
      "Epoch 121/200\n",
      "13/13 [==============================] - 1s 86ms/step - loss: 0.0017\n",
      "Epoch 122/200\n",
      "13/13 [==============================] - 1s 103ms/step - loss: 0.0021 0s - loss: 0.\n",
      "Epoch 123/200\n",
      "13/13 [==============================] - 1s 97ms/step - loss: 0.0020\n",
      "Epoch 124/200\n",
      "13/13 [==============================] - 1s 89ms/step - loss: 0.0019\n",
      "Epoch 125/200\n",
      "13/13 [==============================] - 1s 82ms/step - loss: 0.0019\n",
      "Epoch 126/200\n",
      "13/13 [==============================] - 1s 83ms/step - loss: 0.0020\n",
      "Epoch 127/200\n",
      "13/13 [==============================] - 1s 83ms/step - loss: 0.0017\n",
      "Epoch 128/200\n",
      "13/13 [==============================] - 1s 81ms/step - loss: 0.0019\n",
      "Epoch 129/200\n",
      "13/13 [==============================] - 1s 81ms/step - loss: 0.0015\n",
      "Epoch 130/200\n",
      "13/13 [==============================] - 1s 80ms/step - loss: 0.0018\n",
      "Epoch 131/200\n",
      "13/13 [==============================] - 1s 80ms/step - loss: 0.0018\n",
      "Epoch 132/200\n",
      "13/13 [==============================] - 1s 86ms/step - loss: 0.0018\n",
      "Epoch 133/200\n",
      "13/13 [==============================] - 1s 84ms/step - loss: 0.0019\n",
      "Epoch 134/200\n",
      "13/13 [==============================] - 1s 85ms/step - loss: 0.0018\n",
      "Epoch 135/200\n",
      "13/13 [==============================] - 1s 87ms/step - loss: 0.0018\n",
      "Epoch 136/200\n",
      "13/13 [==============================] - 1s 84ms/step - loss: 0.0019\n",
      "Epoch 137/200\n",
      "13/13 [==============================] - 1s 83ms/step - loss: 0.0017\n",
      "Epoch 138/200\n",
      "13/13 [==============================] - 1s 100ms/step - loss: 0.0017\n",
      "Epoch 139/200\n",
      "13/13 [==============================] - 1s 80ms/step - loss: 0.0016\n",
      "Epoch 140/200\n",
      "13/13 [==============================] - 1s 87ms/step - loss: 0.0019\n",
      "Epoch 141/200\n",
      "13/13 [==============================] - 1s 88ms/step - loss: 0.0022\n",
      "Epoch 142/200\n",
      "13/13 [==============================] - 1s 97ms/step - loss: 0.0016\n",
      "Epoch 143/200\n",
      "13/13 [==============================] - 1s 90ms/step - loss: 0.0015\n",
      "Epoch 144/200\n",
      "13/13 [==============================] - 1s 90ms/step - loss: 0.0018\n",
      "Epoch 145/200\n",
      "13/13 [==============================] - 1s 87ms/step - loss: 0.0018\n",
      "Epoch 146/200\n",
      "13/13 [==============================] - 1s 91ms/step - loss: 0.0024\n",
      "Epoch 147/200\n",
      "13/13 [==============================] - 1s 87ms/step - loss: 0.0018\n",
      "Epoch 148/200\n",
      "13/13 [==============================] - 1s 95ms/step - loss: 0.0021\n",
      "Epoch 149/200\n",
      "13/13 [==============================] - 1s 93ms/step - loss: 0.0018\n",
      "Epoch 150/200\n",
      "13/13 [==============================] - 1s 91ms/step - loss: 0.0020\n",
      "Epoch 151/200\n",
      "13/13 [==============================] - 1s 83ms/step - loss: 0.0019\n",
      "Epoch 152/200\n",
      "13/13 [==============================] - 1s 104ms/step - loss: 0.0020\n",
      "Epoch 153/200\n",
      "13/13 [==============================] - 1s 94ms/step - loss: 0.0018\n",
      "Epoch 154/200\n",
      "13/13 [==============================] - 1s 87ms/step - loss: 0.0015\n",
      "Epoch 155/200\n",
      "13/13 [==============================] - 1s 81ms/step - loss: 0.0023\n",
      "Epoch 156/200\n",
      "13/13 [==============================] - 1s 81ms/step - loss: 0.0024\n",
      "Epoch 157/200\n",
      "13/13 [==============================] - 1s 81ms/step - loss: 0.0014\n",
      "Epoch 158/200\n",
      "13/13 [==============================] - 1s 83ms/step - loss: 0.0023\n",
      "Epoch 159/200\n",
      "13/13 [==============================] - 1s 81ms/step - loss: 0.0020\n",
      "Epoch 160/200\n",
      "13/13 [==============================] - 1s 81ms/step - loss: 0.0017\n",
      "Epoch 161/200\n",
      "13/13 [==============================] - 1s 80ms/step - loss: 0.0016\n",
      "Epoch 162/200\n",
      "13/13 [==============================] - 1s 83ms/step - loss: 0.0020\n",
      "Epoch 163/200\n",
      "13/13 [==============================] - 1s 84ms/step - loss: 0.0024\n",
      "Epoch 164/200\n",
      "13/13 [==============================] - 1s 86ms/step - loss: 0.0022\n",
      "Epoch 165/200\n",
      "13/13 [==============================] - 1s 83ms/step - loss: 0.0017\n",
      "Epoch 166/200\n",
      "13/13 [==============================] - 1s 80ms/step - loss: 0.0018\n",
      "Epoch 167/200\n",
      "13/13 [==============================] - 1s 80ms/step - loss: 0.0018\n",
      "Epoch 168/200\n",
      "13/13 [==============================] - 1s 85ms/step - loss: 0.0019\n",
      "Epoch 169/200\n",
      "13/13 [==============================] - 1s 89ms/step - loss: 0.0026\n",
      "Epoch 170/200\n",
      "13/13 [==============================] - 1s 103ms/step - loss: 0.0018\n",
      "Epoch 171/200\n",
      "13/13 [==============================] - 1s 90ms/step - loss: 0.0017\n",
      "Epoch 172/200\n",
      "13/13 [==============================] - 1s 96ms/step - loss: 0.0023\n",
      "Epoch 173/200\n",
      "13/13 [==============================] - 1s 98ms/step - loss: 0.0017\n",
      "Epoch 174/200\n",
      "13/13 [==============================] - 1s 109ms/step - loss: 0.0018\n",
      "Epoch 175/200\n",
      "13/13 [==============================] - 1s 83ms/step - loss: 0.0017\n",
      "Epoch 176/200\n",
      "13/13 [==============================] - 1s 80ms/step - loss: 0.0015\n",
      "Epoch 177/200\n",
      "13/13 [==============================] - 1s 81ms/step - loss: 0.0017\n",
      "Epoch 178/200\n",
      "13/13 [==============================] - 1s 80ms/step - loss: 0.0027\n",
      "Epoch 179/200\n",
      "13/13 [==============================] - 1s 80ms/step - loss: 0.0021\n",
      "Epoch 180/200\n",
      "13/13 [==============================] - 1s 90ms/step - loss: 0.0017\n",
      "Epoch 181/200\n",
      "13/13 [==============================] - 1s 81ms/step - loss: 0.0017\n",
      "Epoch 182/200\n",
      "13/13 [==============================] - 1s 82ms/step - loss: 0.0015\n",
      "Epoch 183/200\n",
      "13/13 [==============================] - 1s 81ms/step - loss: 0.0016\n",
      "Epoch 184/200\n",
      "13/13 [==============================] - 1s 84ms/step - loss: 0.0017\n",
      "Epoch 185/200\n",
      "13/13 [==============================] - 1s 89ms/step - loss: 0.0020\n",
      "Epoch 186/200\n",
      "13/13 [==============================] - 1s 85ms/step - loss: 0.0013\n",
      "Epoch 187/200\n",
      "13/13 [==============================] - 1s 85ms/step - loss: 0.0013\n",
      "Epoch 188/200\n",
      "13/13 [==============================] - 1s 83ms/step - loss: 0.0020\n",
      "Epoch 189/200\n",
      "13/13 [==============================] - 1s 92ms/step - loss: 0.0016\n",
      "Epoch 190/200\n",
      "13/13 [==============================] - 1s 102ms/step - loss: 0.0017\n",
      "Epoch 191/200\n",
      "13/13 [==============================] - 2s 141ms/step - loss: 0.0016\n",
      "Epoch 192/200\n",
      "13/13 [==============================] - 3s 198ms/step - loss: 0.0021\n",
      "Epoch 193/200\n",
      "13/13 [==============================] - 3s 249ms/step - loss: 0.0020\n",
      "Epoch 194/200\n",
      "13/13 [==============================] - 3s 214ms/step - loss: 0.0015\n",
      "Epoch 195/200\n",
      "13/13 [==============================] - 2s 172ms/step - loss: 0.0015\n",
      "Epoch 196/200\n",
      "13/13 [==============================] - 2s 148ms/step - loss: 0.0016\n",
      "Epoch 197/200\n",
      "13/13 [==============================] - 1s 88ms/step - loss: 0.0017\n",
      "Epoch 198/200\n"
     ]
    },
    {
     "name": "stdout",
     "output_type": "stream",
     "text": [
      "13/13 [==============================] - 1s 87ms/step - loss: 0.0016\n",
      "Epoch 199/200\n",
      "13/13 [==============================] - 1s 92ms/step - loss: 0.0014\n",
      "Epoch 200/200\n",
      "13/13 [==============================] - 2s 116ms/step - loss: 0.0017\n"
     ]
    },
    {
     "data": {
      "text/plain": [
       "<tensorflow.python.keras.callbacks.History at 0x7fd65124f910>"
      ]
     },
     "execution_count": 12,
     "metadata": {},
     "output_type": "execute_result"
    }
   ],
   "source": [
    "model = Sequential()\n",
    "#Adding the first LSTM layer and some Dropout regularisation\n",
    "model.add(LSTM(units = 50, return_sequences = True, input_shape = (X_train.shape[1], 1)))\n",
    "model.add(Dropout(0.2))\n",
    "# Adding a second LSTM layer and some Dropout regularisation\n",
    "model.add(LSTM(units = 50, return_sequences = True))\n",
    "model.add(Dropout(0.2))\n",
    "# Adding a third LSTM layer and some Dropout regularisation\n",
    "model.add(LSTM(units = 50, return_sequences = True))\n",
    "model.add(Dropout(0.2))\n",
    "# Adding a fourth LSTM layer and some Dropout regularisation\n",
    "model.add(LSTM(units = 50))\n",
    "model.add(Dropout(0.2))\n",
    "# Adding the output layer\n",
    "model.add(Dense(units = 1))\n",
    "\n",
    "# Compiling the RNN\n",
    "model.compile(optimizer = 'adam', loss = 'mean_squared_error')\n",
    "\n",
    "# Fitting the RNN to the Training set\n",
    "model.fit(X_train, y_train, epochs = 200, batch_size = 32) #callbacks = EarlyStopping(monitor='val_loss', patience=7))"
   ]
  },
  {
   "cell_type": "markdown",
   "metadata": {},
   "source": [
    "# Testing our LSTM"
   ]
  },
  {
   "cell_type": "markdown",
   "metadata": {},
   "source": [
    "To predict stock price on test set, I need the stock prices for the previous 60 days, so I will use my whole dataset for test data before preprocessing"
   ]
  },
  {
   "cell_type": "code",
   "execution_count": 13,
   "metadata": {},
   "outputs": [
    {
     "data": {
      "text/html": [
       "<div>\n",
       "<style scoped>\n",
       "    .dataframe tbody tr th:only-of-type {\n",
       "        vertical-align: middle;\n",
       "    }\n",
       "\n",
       "    .dataframe tbody tr th {\n",
       "        vertical-align: top;\n",
       "    }\n",
       "\n",
       "    .dataframe thead th {\n",
       "        text-align: right;\n",
       "    }\n",
       "</style>\n",
       "<table border=\"1\" class=\"dataframe\">\n",
       "  <thead>\n",
       "    <tr style=\"text-align: right;\">\n",
       "      <th></th>\n",
       "      <th>Close</th>\n",
       "    </tr>\n",
       "    <tr>\n",
       "      <th>Date</th>\n",
       "      <th></th>\n",
       "    </tr>\n",
       "  </thead>\n",
       "  <tbody>\n",
       "    <tr>\n",
       "      <th>2019-05-13</th>\n",
       "      <td>45.402000</td>\n",
       "    </tr>\n",
       "    <tr>\n",
       "      <th>2019-05-14</th>\n",
       "      <td>46.462002</td>\n",
       "    </tr>\n",
       "    <tr>\n",
       "      <th>2019-05-15</th>\n",
       "      <td>46.389999</td>\n",
       "    </tr>\n",
       "    <tr>\n",
       "      <th>2019-05-16</th>\n",
       "      <td>45.666000</td>\n",
       "    </tr>\n",
       "    <tr>\n",
       "      <th>2019-05-17</th>\n",
       "      <td>42.206001</td>\n",
       "    </tr>\n",
       "  </tbody>\n",
       "</table>\n",
       "</div>"
      ],
      "text/plain": [
       "                Close\n",
       "Date                 \n",
       "2019-05-13  45.402000\n",
       "2019-05-14  46.462002\n",
       "2019-05-15  46.389999\n",
       "2019-05-16  45.666000\n",
       "2019-05-17  42.206001"
      ]
     },
     "execution_count": 13,
     "metadata": {},
     "output_type": "execute_result"
    }
   ],
   "source": [
    "df.head()"
   ]
  },
  {
   "cell_type": "markdown",
   "metadata": {},
   "source": [
    "Now let's prepare our test inputs. The input for each day should contain the opening stock prices for the previous 60 days. That means we need opening stock prices for the 59 test days and the 60 stock prices from the last 60 days for the training set."
   ]
  },
  {
   "cell_type": "code",
   "execution_count": 14,
   "metadata": {},
   "outputs": [],
   "source": [
    "test_inputs = df[len(df) - len(test_set) - 60:].values"
   ]
  },
  {
   "cell_type": "markdown",
   "metadata": {},
   "source": [
    "As we did for the training set, we need to scale our test data"
   ]
  },
  {
   "cell_type": "code",
   "execution_count": 15,
   "metadata": {},
   "outputs": [],
   "source": [
    "test_inputs = test_inputs.reshape(-1,1)\n",
    "test_inputs = sc.transform(test_inputs)"
   ]
  },
  {
   "cell_type": "code",
   "execution_count": 16,
   "metadata": {},
   "outputs": [
    {
     "data": {
      "text/plain": [
       "array([[0.63520421],\n",
       "       [0.64908366],\n",
       "       [0.62765074],\n",
       "       [0.64790344],\n",
       "       [0.62909065],\n",
       "       [0.65807697],\n",
       "       [0.66475702],\n",
       "       [0.71517627],\n",
       "       [0.72475969],\n",
       "       [0.67117744],\n",
       "       [0.69783876],\n",
       "       [0.67768049],\n",
       "       [0.71289844],\n",
       "       [0.70513254],\n",
       "       [0.69276381],\n",
       "       [0.73186467],\n",
       "       [0.77801144],\n",
       "       [0.72473606],\n",
       "       [0.71350037],\n",
       "       [0.72015678],\n",
       "       [0.73879258],\n",
       "       [0.74105859],\n",
       "       [0.7437731 ],\n",
       "       [0.77775182],\n",
       "       [0.79060442],\n",
       "       [0.81904789],\n",
       "       [0.82535025],\n",
       "       [0.84998154],\n",
       "       [0.92086585],\n",
       "       [0.9963767 ],\n",
       "       [0.91514179],\n",
       "       [0.9602854 ],\n",
       "       [0.96615108],\n",
       "       [0.9550452 ],\n",
       "       [0.93280972],\n",
       "       [0.95451408],\n",
       "       [0.96147744],\n",
       "       [0.95503338],\n",
       "       [0.95698078],\n",
       "       [0.99729724],\n",
       "       [1.        ],\n",
       "       [0.97765828],\n",
       "       [0.94375043],\n",
       "       [0.89429905],\n",
       "       [0.94891983],\n",
       "       [0.98784362],\n",
       "       [0.96648158],\n",
       "       [0.96093451],\n",
       "       [0.9635782 ],\n",
       "       [0.97678492],\n",
       "       [0.96030903],\n",
       "       [0.90762376],\n",
       "       [0.91569646],\n",
       "       [0.92096029],\n",
       "       [0.89747378],\n",
       "       [0.89975168],\n",
       "       [0.88704063],\n",
       "       [0.87986485],\n",
       "       [0.80102583],\n",
       "       [0.78254353],\n",
       "       [0.83350564],\n",
       "       [0.76292813],\n",
       "       [0.75499705],\n",
       "       [0.8056641 ],\n",
       "       [0.76790871],\n",
       "       [0.72867804],\n",
       "       [0.69119409],\n",
       "       [0.66347061],\n",
       "       [0.62222173],\n",
       "       [0.75273104],\n",
       "       [0.74621617],\n",
       "       [0.78344044],\n",
       "       [0.77651253],\n",
       "       [0.79328355],\n",
       "       [0.75662577],\n",
       "       [0.78604877],\n",
       "       [0.72863079],\n",
       "       [0.730649  ],\n",
       "       [0.74850581],\n",
       "       [0.73925282],\n",
       "       [0.70161549],\n",
       "       [0.71355937],\n",
       "       [0.68797209],\n",
       "       [0.67921477],\n",
       "       [0.70792967],\n",
       "       [0.74606274],\n",
       "       [0.73876895],\n",
       "       [0.77334953],\n",
       "       [0.77402227],\n",
       "       [0.7496506 ],\n",
       "       [0.7647929 ],\n",
       "       [0.75679101],\n",
       "       [0.78624939],\n",
       "       [0.8574642 ],\n",
       "       [0.82195119],\n",
       "       [0.82976428],\n",
       "       [0.83086195],\n",
       "       [0.80117926],\n",
       "       [0.80632503],\n",
       "       [0.83598409],\n",
       "       [0.8071512 ],\n",
       "       [0.81861121],\n",
       "       [0.82899717],\n",
       "       [0.78950682],\n",
       "       [0.77730333],\n",
       "       [0.75676739],\n",
       "       [0.79505389],\n",
       "       [0.76609119],\n",
       "       [0.75275459],\n",
       "       [0.74961523],\n",
       "       [0.74088153],\n",
       "       [0.75130294],\n",
       "       [0.70016377],\n",
       "       [0.68618994],\n",
       "       [0.653958  ]])"
      ]
     },
     "execution_count": 16,
     "metadata": {},
     "output_type": "execute_result"
    }
   ],
   "source": [
    "test_inputs"
   ]
  },
  {
   "cell_type": "code",
   "execution_count": 17,
   "metadata": {},
   "outputs": [
    {
     "data": {
      "text/plain": [
       "(115, 1)"
      ]
     },
     "execution_count": 17,
     "metadata": {},
     "output_type": "execute_result"
    }
   ],
   "source": [
    "test_inputs.shape"
   ]
  },
  {
   "cell_type": "markdown",
   "metadata": {},
   "source": [
    "After scaled my data, now let's prepare our final test input set that will contain previous 60 stock prices before of the test set."
   ]
  },
  {
   "cell_type": "code",
   "execution_count": 18,
   "metadata": {},
   "outputs": [],
   "source": [
    "test_features = []\n",
    "for i in range(60, 115):\n",
    "    test_features.append(test_inputs[i-60:i, 0])"
   ]
  },
  {
   "cell_type": "markdown",
   "metadata": {},
   "source": [
    "Reshape the data to be 3-dimensional as training set."
   ]
  },
  {
   "cell_type": "code",
   "execution_count": 19,
   "metadata": {},
   "outputs": [],
   "source": [
    "test_features = np.array(test_features)\n",
    "#save test features to csv file to optimal model later\n",
    "np.savetxt(\"test_features.csv\", test_features, delimiter=\",\")\n",
    "test_features = np.reshape(test_features, (test_features.shape[0], test_features.shape[1], 1))"
   ]
  },
  {
   "cell_type": "markdown",
   "metadata": {},
   "source": [
    "# Making Predictions"
   ]
  },
  {
   "cell_type": "code",
   "execution_count": 20,
   "metadata": {},
   "outputs": [],
   "source": [
    "predictions = model.predict(test_features)"
   ]
  },
  {
   "cell_type": "code",
   "execution_count": 21,
   "metadata": {},
   "outputs": [],
   "source": [
    "#inverse data from scale 0-1 to the original scale.\n",
    "predictions = sc.inverse_transform(predictions)"
   ]
  },
  {
   "cell_type": "code",
   "execution_count": 22,
   "metadata": {},
   "outputs": [
    {
     "data": {
      "image/png": "[encoded data removed]",
      "text/plain": [
       "<Figure size 720x432 with 1 Axes>"
      ]
     },
     "metadata": {
      "needs_background": "light"
     },
     "output_type": "display_data"
    }
   ],
   "source": [
    "plt.figure(figsize=(10,6))\n",
    "plt.plot(test_set, color='blue', label='Actual Tesla Stock Price')\n",
    "plt.plot(predictions , color='red', label='Predicted Tesla Stock Price')\n",
    "plt.title('Tesla Stock Price Prediction', fontsize=15)\n",
    "plt.xlabel('Date', fontsize=12)\n",
    "plt.ylabel('Apple Stock Price', fontsize=12)\n",
    "plt.legend()\n",
    "plt.show()"
   ]
  },
  {
   "cell_type": "code",
   "execution_count": 23,
   "metadata": {},
   "outputs": [
    {
     "name": "stdout",
     "output_type": "stream",
     "text": [
      "The RMSE of LSTM : 41.35647359729378\n"
     ]
    }
   ],
   "source": [
    "print('The RMSE of LSTM :', mean_squared_error(test_set, predictions)**0.5)"
   ]
  },
  {
   "cell_type": "markdown",
   "metadata": {},
   "source": [
    "Compare to Auto Arima model, my neural network performed better from 87.33 decrease to 41.35. It is a good sign, next I will optimize my neural network model , and see how it improve."
   ]
  },
  {
   "cell_type": "code",
   "execution_count": null,
   "metadata": {},
   "outputs": [],
   "source": []
  }
 ],
 "metadata": {
  "kernelspec": {
   "display_name": "Python 3",
   "language": "python",
   "name": "python3"
  },
  "language_info": {
   "codemirror_mode": {
    "name": "ipython",
    "version": 3
   },
   "file_extension": ".py",
   "mimetype": "text/x-python",
   "name": "python",
   "nbconvert_exporter": "python",
   "pygments_lexer": "ipython3",
   "version": "3.7.6"
  }
 },
 "nbformat": 4,
 "nbformat_minor": 4
}
