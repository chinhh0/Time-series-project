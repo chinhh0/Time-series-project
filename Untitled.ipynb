{
 "cells": [
  {
   "cell_type": "code",
   "execution_count": 1,
   "metadata": {},
   "outputs": [],
   "source": [
    "import pandas as pd"
   ]
  },
  {
   "cell_type": "code",
   "execution_count": 2,
   "metadata": {},
   "outputs": [],
   "source": [
    "df=pd.read_csv('TSLA.csv')"
   ]
  },
  {
   "cell_type": "code",
   "execution_count": 3,
   "metadata": {},
   "outputs": [
    {
     "data": {
      "text/html": [
       "<div>\n",
       "<style scoped>\n",
       "    .dataframe tbody tr th:only-of-type {\n",
       "        vertical-align: middle;\n",
       "    }\n",
       "\n",
       "    .dataframe tbody tr th {\n",
       "        vertical-align: top;\n",
       "    }\n",
       "\n",
       "    .dataframe thead th {\n",
       "        text-align: right;\n",
       "    }\n",
       "</style>\n",
       "<table border=\"1\" class=\"dataframe\">\n",
       "  <thead>\n",
       "    <tr style=\"text-align: right;\">\n",
       "      <th></th>\n",
       "      <th>Date</th>\n",
       "      <th>Open</th>\n",
       "      <th>High</th>\n",
       "      <th>Low</th>\n",
       "      <th>Close</th>\n",
       "      <th>Adj Close</th>\n",
       "      <th>Volume</th>\n",
       "    </tr>\n",
       "  </thead>\n",
       "  <tbody>\n",
       "    <tr>\n",
       "      <th>0</th>\n",
       "      <td>2020-04-29</td>\n",
       "      <td>158.033997</td>\n",
       "      <td>160.639999</td>\n",
       "      <td>156.632004</td>\n",
       "      <td>160.102005</td>\n",
       "      <td>160.102005</td>\n",
       "      <td>81080000</td>\n",
       "    </tr>\n",
       "    <tr>\n",
       "      <th>1</th>\n",
       "      <td>2020-04-30</td>\n",
       "      <td>171.037994</td>\n",
       "      <td>173.964005</td>\n",
       "      <td>152.699997</td>\n",
       "      <td>156.376007</td>\n",
       "      <td>156.376007</td>\n",
       "      <td>142359500</td>\n",
       "    </tr>\n",
       "    <tr>\n",
       "      <th>2</th>\n",
       "      <td>2020-05-01</td>\n",
       "      <td>151.000000</td>\n",
       "      <td>154.554001</td>\n",
       "      <td>136.608002</td>\n",
       "      <td>140.264008</td>\n",
       "      <td>140.264008</td>\n",
       "      <td>162659000</td>\n",
       "    </tr>\n",
       "    <tr>\n",
       "      <th>3</th>\n",
       "      <td>2020-05-04</td>\n",
       "      <td>140.199997</td>\n",
       "      <td>152.399994</td>\n",
       "      <td>139.600006</td>\n",
       "      <td>152.238007</td>\n",
       "      <td>152.238007</td>\n",
       "      <td>96185500</td>\n",
       "    </tr>\n",
       "    <tr>\n",
       "      <th>4</th>\n",
       "      <td>2020-05-05</td>\n",
       "      <td>157.957993</td>\n",
       "      <td>159.783997</td>\n",
       "      <td>152.436005</td>\n",
       "      <td>153.641998</td>\n",
       "      <td>153.641998</td>\n",
       "      <td>84958500</td>\n",
       "    </tr>\n",
       "  </tbody>\n",
       "</table>\n",
       "</div>"
      ],
      "text/plain": [
       "         Date        Open        High         Low       Close   Adj Close  \\\n",
       "0  2020-04-29  158.033997  160.639999  156.632004  160.102005  160.102005   \n",
       "1  2020-04-30  171.037994  173.964005  152.699997  156.376007  156.376007   \n",
       "2  2020-05-01  151.000000  154.554001  136.608002  140.264008  140.264008   \n",
       "3  2020-05-04  140.199997  152.399994  139.600006  152.238007  152.238007   \n",
       "4  2020-05-05  157.957993  159.783997  152.436005  153.641998  153.641998   \n",
       "\n",
       "      Volume  \n",
       "0   81080000  \n",
       "1  142359500  \n",
       "2  162659000  \n",
       "3   96185500  \n",
       "4   84958500  "
      ]
     },
     "execution_count": 3,
     "metadata": {},
     "output_type": "execute_result"
    }
   ],
   "source": [
    "df.head()"
   ]
  },
  {
   "cell_type": "code",
   "execution_count": null,
   "metadata": {},
   "outputs": [],
   "source": []
  }
 ],
 "metadata": {
  "kernelspec": {
   "display_name": "Python 3",
   "language": "python",
   "name": "python3"
  },
  "language_info": {
   "codemirror_mode": {
    "name": "ipython",
    "version": 3
   },
   "file_extension": ".py",
   "mimetype": "text/x-python",
   "name": "python",
   "nbconvert_exporter": "python",
   "pygments_lexer": "ipython3",
   "version": "3.7.6"
  }
 },
 "nbformat": 4,
 "nbformat_minor": 4
}
