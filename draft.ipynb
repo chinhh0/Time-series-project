{
 "cells": [
  {
   "cell_type": "code",
   "execution_count": 1,
   "metadata": {},
   "outputs": [],
   "source": [
    "import pandas as pd\n",
    "import numpy as np\n",
    "import matplotlib.pyplot as plt"
   ]
  },
  {
   "cell_type": "code",
   "execution_count": 2,
   "metadata": {},
   "outputs": [],
   "source": [
    "df=pd.read_csv('TSLA.csv')"
   ]
  },
  {
   "cell_type": "code",
   "execution_count": 3,
   "metadata": {},
   "outputs": [
    {
     "data": {
      "text/html": [
       "<div>\n",
       "<style scoped>\n",
       "    .dataframe tbody tr th:only-of-type {\n",
       "        vertical-align: middle;\n",
       "    }\n",
       "\n",
       "    .dataframe tbody tr th {\n",
       "        vertical-align: top;\n",
       "    }\n",
       "\n",
       "    .dataframe thead th {\n",
       "        text-align: right;\n",
       "    }\n",
       "</style>\n",
       "<table border=\"1\" class=\"dataframe\">\n",
       "  <thead>\n",
       "    <tr style=\"text-align: right;\">\n",
       "      <th></th>\n",
       "      <th>Date</th>\n",
       "      <th>Open</th>\n",
       "      <th>High</th>\n",
       "      <th>Low</th>\n",
       "      <th>Close</th>\n",
       "      <th>Adj Close</th>\n",
       "      <th>Volume</th>\n",
       "    </tr>\n",
       "  </thead>\n",
       "  <tbody>\n",
       "    <tr>\n",
       "      <th>0</th>\n",
       "      <td>2019-05-01</td>\n",
       "      <td>47.770000</td>\n",
       "      <td>48.000000</td>\n",
       "      <td>46.299999</td>\n",
       "      <td>46.801998</td>\n",
       "      <td>46.801998</td>\n",
       "      <td>53522000</td>\n",
       "    </tr>\n",
       "    <tr>\n",
       "      <th>1</th>\n",
       "      <td>2019-05-02</td>\n",
       "      <td>49.104000</td>\n",
       "      <td>49.425999</td>\n",
       "      <td>47.543999</td>\n",
       "      <td>48.820000</td>\n",
       "      <td>48.820000</td>\n",
       "      <td>90796500</td>\n",
       "    </tr>\n",
       "    <tr>\n",
       "      <th>2</th>\n",
       "      <td>2019-05-03</td>\n",
       "      <td>48.771999</td>\n",
       "      <td>51.321999</td>\n",
       "      <td>48.698002</td>\n",
       "      <td>51.006001</td>\n",
       "      <td>51.006001</td>\n",
       "      <td>118534000</td>\n",
       "    </tr>\n",
       "    <tr>\n",
       "      <th>3</th>\n",
       "      <td>2019-05-06</td>\n",
       "      <td>50.004002</td>\n",
       "      <td>51.669998</td>\n",
       "      <td>49.700001</td>\n",
       "      <td>51.068001</td>\n",
       "      <td>51.068001</td>\n",
       "      <td>54169500</td>\n",
       "    </tr>\n",
       "    <tr>\n",
       "      <th>4</th>\n",
       "      <td>2019-05-07</td>\n",
       "      <td>51.360001</td>\n",
       "      <td>51.442001</td>\n",
       "      <td>49.020000</td>\n",
       "      <td>49.411999</td>\n",
       "      <td>49.411999</td>\n",
       "      <td>50657000</td>\n",
       "    </tr>\n",
       "  </tbody>\n",
       "</table>\n",
       "</div>"
      ],
      "text/plain": [
       "         Date       Open       High        Low      Close  Adj Close  \\\n",
       "0  2019-05-01  47.770000  48.000000  46.299999  46.801998  46.801998   \n",
       "1  2019-05-02  49.104000  49.425999  47.543999  48.820000  48.820000   \n",
       "2  2019-05-03  48.771999  51.321999  48.698002  51.006001  51.006001   \n",
       "3  2019-05-06  50.004002  51.669998  49.700001  51.068001  51.068001   \n",
       "4  2019-05-07  51.360001  51.442001  49.020000  49.411999  49.411999   \n",
       "\n",
       "      Volume  \n",
       "0   53522000  \n",
       "1   90796500  \n",
       "2  118534000  \n",
       "3   54169500  \n",
       "4   50657000  "
      ]
     },
     "execution_count": 3,
     "metadata": {},
     "output_type": "execute_result"
    }
   ],
   "source": [
    "df.head()"
   ]
  },
  {
   "cell_type": "code",
   "execution_count": 4,
   "metadata": {},
   "outputs": [
    {
     "data": {
      "text/html": [
       "<div>\n",
       "<style scoped>\n",
       "    .dataframe tbody tr th:only-of-type {\n",
       "        vertical-align: middle;\n",
       "    }\n",
       "\n",
       "    .dataframe tbody tr th {\n",
       "        vertical-align: top;\n",
       "    }\n",
       "\n",
       "    .dataframe thead th {\n",
       "        text-align: right;\n",
       "    }\n",
       "</style>\n",
       "<table border=\"1\" class=\"dataframe\">\n",
       "  <thead>\n",
       "    <tr style=\"text-align: right;\">\n",
       "      <th></th>\n",
       "      <th>Open</th>\n",
       "      <th>High</th>\n",
       "      <th>Low</th>\n",
       "      <th>Close</th>\n",
       "      <th>Adj Close</th>\n",
       "      <th>Volume</th>\n",
       "    </tr>\n",
       "  </thead>\n",
       "  <tbody>\n",
       "    <tr>\n",
       "      <th>count</th>\n",
       "      <td>505.000000</td>\n",
       "      <td>505.000000</td>\n",
       "      <td>505.000000</td>\n",
       "      <td>505.000000</td>\n",
       "      <td>505.000000</td>\n",
       "      <td>5.050000e+02</td>\n",
       "    </tr>\n",
       "    <tr>\n",
       "      <th>mean</th>\n",
       "      <td>283.305106</td>\n",
       "      <td>290.324075</td>\n",
       "      <td>275.562012</td>\n",
       "      <td>283.580043</td>\n",
       "      <td>283.580043</td>\n",
       "      <td>5.880812e+07</td>\n",
       "    </tr>\n",
       "    <tr>\n",
       "      <th>std</th>\n",
       "      <td>259.841058</td>\n",
       "      <td>265.548325</td>\n",
       "      <td>252.989621</td>\n",
       "      <td>259.937321</td>\n",
       "      <td>259.937321</td>\n",
       "      <td>3.632379e+07</td>\n",
       "    </tr>\n",
       "    <tr>\n",
       "      <th>min</th>\n",
       "      <td>36.220001</td>\n",
       "      <td>37.335999</td>\n",
       "      <td>35.397999</td>\n",
       "      <td>35.793999</td>\n",
       "      <td>35.793999</td>\n",
       "      <td>1.232800e+07</td>\n",
       "    </tr>\n",
       "    <tr>\n",
       "      <th>25%</th>\n",
       "      <td>62.619999</td>\n",
       "      <td>63.799999</td>\n",
       "      <td>61.959999</td>\n",
       "      <td>63.001999</td>\n",
       "      <td>63.001999</td>\n",
       "      <td>3.287550e+07</td>\n",
       "    </tr>\n",
       "    <tr>\n",
       "      <th>50%</th>\n",
       "      <td>161.000000</td>\n",
       "      <td>164.800003</td>\n",
       "      <td>157.000000</td>\n",
       "      <td>160.102005</td>\n",
       "      <td>160.102005</td>\n",
       "      <td>4.814560e+07</td>\n",
       "    </tr>\n",
       "    <tr>\n",
       "      <th>75%</th>\n",
       "      <td>440.760010</td>\n",
       "      <td>448.890015</td>\n",
       "      <td>428.500000</td>\n",
       "      <td>441.609985</td>\n",
       "      <td>441.609985</td>\n",
       "      <td>7.598750e+07</td>\n",
       "    </tr>\n",
       "    <tr>\n",
       "      <th>max</th>\n",
       "      <td>891.380005</td>\n",
       "      <td>900.400024</td>\n",
       "      <td>871.599976</td>\n",
       "      <td>883.090027</td>\n",
       "      <td>883.090027</td>\n",
       "      <td>3.046940e+08</td>\n",
       "    </tr>\n",
       "  </tbody>\n",
       "</table>\n",
       "</div>"
      ],
      "text/plain": [
       "             Open        High         Low       Close   Adj Close  \\\n",
       "count  505.000000  505.000000  505.000000  505.000000  505.000000   \n",
       "mean   283.305106  290.324075  275.562012  283.580043  283.580043   \n",
       "std    259.841058  265.548325  252.989621  259.937321  259.937321   \n",
       "min     36.220001   37.335999   35.397999   35.793999   35.793999   \n",
       "25%     62.619999   63.799999   61.959999   63.001999   63.001999   \n",
       "50%    161.000000  164.800003  157.000000  160.102005  160.102005   \n",
       "75%    440.760010  448.890015  428.500000  441.609985  441.609985   \n",
       "max    891.380005  900.400024  871.599976  883.090027  883.090027   \n",
       "\n",
       "             Volume  \n",
       "count  5.050000e+02  \n",
       "mean   5.880812e+07  \n",
       "std    3.632379e+07  \n",
       "min    1.232800e+07  \n",
       "25%    3.287550e+07  \n",
       "50%    4.814560e+07  \n",
       "75%    7.598750e+07  \n",
       "max    3.046940e+08  "
      ]
     },
     "execution_count": 4,
     "metadata": {},
     "output_type": "execute_result"
    }
   ],
   "source": [
    "df.describe()"
   ]
  },
  {
   "cell_type": "markdown",
   "metadata": {},
   "source": [
    "There are abundant columns, so I will only focus on Close column."
   ]
  },
  {
   "cell_type": "code",
   "execution_count": 5,
   "metadata": {},
   "outputs": [
    {
     "data": {
      "text/plain": [
       "count    505.000000\n",
       "mean     283.580043\n",
       "std      259.937321\n",
       "min       35.793999\n",
       "25%       63.001999\n",
       "50%      160.102005\n",
       "75%      441.609985\n",
       "max      883.090027\n",
       "Name: Close, dtype: float64"
      ]
     },
     "execution_count": 5,
     "metadata": {},
     "output_type": "execute_result"
    }
   ],
   "source": [
    "df['Close'].describe()"
   ]
  },
  {
   "cell_type": "markdown",
   "metadata": {},
   "source": [
    "I will explain something about the information above. I have 505 observations in this dataset in two years that make sense because the market closes on Saturday and Sunday.\n",
    "The min was only 35 compare to the max was 883, which means Tesla is overgrowing. The Standard Deviation was huge, which means it volatility asset (a very risky asset).\n",
    "The median was 160 compare to the max.  The skewness is coming from the fact that in the last year, we see that Tesla's price has moved from 160 to 883. This dataset is hugely skewed."
   ]
  },
  {
   "cell_type": "markdown",
   "metadata": {},
   "source": [
    "The important thing in finance or investment is the Return. The Return is the percentage change, and I will calculate the Return using \"Adj Close\" columns."
   ]
  },
  {
   "cell_type": "code",
   "execution_count": 6,
   "metadata": {},
   "outputs": [],
   "source": [
    "df['Return']=df['Adj Close'].pct_change()"
   ]
  },
  {
   "cell_type": "code",
   "execution_count": 7,
   "metadata": {},
   "outputs": [
    {
     "data": {
      "text/html": [
       "<div>\n",
       "<style scoped>\n",
       "    .dataframe tbody tr th:only-of-type {\n",
       "        vertical-align: middle;\n",
       "    }\n",
       "\n",
       "    .dataframe tbody tr th {\n",
       "        vertical-align: top;\n",
       "    }\n",
       "\n",
       "    .dataframe thead th {\n",
       "        text-align: right;\n",
       "    }\n",
       "</style>\n",
       "<table border=\"1\" class=\"dataframe\">\n",
       "  <thead>\n",
       "    <tr style=\"text-align: right;\">\n",
       "      <th></th>\n",
       "      <th>Date</th>\n",
       "      <th>Open</th>\n",
       "      <th>High</th>\n",
       "      <th>Low</th>\n",
       "      <th>Close</th>\n",
       "      <th>Adj Close</th>\n",
       "      <th>Volume</th>\n",
       "      <th>Return</th>\n",
       "    </tr>\n",
       "  </thead>\n",
       "  <tbody>\n",
       "    <tr>\n",
       "      <th>0</th>\n",
       "      <td>2019-05-01</td>\n",
       "      <td>47.770000</td>\n",
       "      <td>48.000000</td>\n",
       "      <td>46.299999</td>\n",
       "      <td>46.801998</td>\n",
       "      <td>46.801998</td>\n",
       "      <td>53522000</td>\n",
       "      <td>NaN</td>\n",
       "    </tr>\n",
       "    <tr>\n",
       "      <th>1</th>\n",
       "      <td>2019-05-02</td>\n",
       "      <td>49.104000</td>\n",
       "      <td>49.425999</td>\n",
       "      <td>47.543999</td>\n",
       "      <td>48.820000</td>\n",
       "      <td>48.820000</td>\n",
       "      <td>90796500</td>\n",
       "      <td>0.043118</td>\n",
       "    </tr>\n",
       "    <tr>\n",
       "      <th>2</th>\n",
       "      <td>2019-05-03</td>\n",
       "      <td>48.771999</td>\n",
       "      <td>51.321999</td>\n",
       "      <td>48.698002</td>\n",
       "      <td>51.006001</td>\n",
       "      <td>51.006001</td>\n",
       "      <td>118534000</td>\n",
       "      <td>0.044777</td>\n",
       "    </tr>\n",
       "    <tr>\n",
       "      <th>3</th>\n",
       "      <td>2019-05-06</td>\n",
       "      <td>50.004002</td>\n",
       "      <td>51.669998</td>\n",
       "      <td>49.700001</td>\n",
       "      <td>51.068001</td>\n",
       "      <td>51.068001</td>\n",
       "      <td>54169500</td>\n",
       "      <td>0.001216</td>\n",
       "    </tr>\n",
       "    <tr>\n",
       "      <th>4</th>\n",
       "      <td>2019-05-07</td>\n",
       "      <td>51.360001</td>\n",
       "      <td>51.442001</td>\n",
       "      <td>49.020000</td>\n",
       "      <td>49.411999</td>\n",
       "      <td>49.411999</td>\n",
       "      <td>50657000</td>\n",
       "      <td>-0.032427</td>\n",
       "    </tr>\n",
       "  </tbody>\n",
       "</table>\n",
       "</div>"
      ],
      "text/plain": [
       "         Date       Open       High        Low      Close  Adj Close  \\\n",
       "0  2019-05-01  47.770000  48.000000  46.299999  46.801998  46.801998   \n",
       "1  2019-05-02  49.104000  49.425999  47.543999  48.820000  48.820000   \n",
       "2  2019-05-03  48.771999  51.321999  48.698002  51.006001  51.006001   \n",
       "3  2019-05-06  50.004002  51.669998  49.700001  51.068001  51.068001   \n",
       "4  2019-05-07  51.360001  51.442001  49.020000  49.411999  49.411999   \n",
       "\n",
       "      Volume    Return  \n",
       "0   53522000       NaN  \n",
       "1   90796500  0.043118  \n",
       "2  118534000  0.044777  \n",
       "3   54169500  0.001216  \n",
       "4   50657000 -0.032427  "
      ]
     },
     "execution_count": 7,
     "metadata": {},
     "output_type": "execute_result"
    }
   ],
   "source": [
    "df.head()"
   ]
  },
  {
   "cell_type": "code",
   "execution_count": 8,
   "metadata": {},
   "outputs": [
    {
     "data": {
      "text/plain": [
       "Date         0\n",
       "Open         0\n",
       "High         0\n",
       "Low          0\n",
       "Close        0\n",
       "Adj Close    0\n",
       "Volume       0\n",
       "Return       1\n",
       "dtype: int64"
      ]
     },
     "execution_count": 8,
     "metadata": {},
     "output_type": "execute_result"
    }
   ],
   "source": [
    "df.isna().sum()"
   ]
  },
  {
   "cell_type": "code",
   "execution_count": 9,
   "metadata": {},
   "outputs": [],
   "source": [
    "df.set_index('Date', inplace=True)"
   ]
  },
  {
   "cell_type": "markdown",
   "metadata": {},
   "source": [
    "Let's do some visualization to make the data more transparent."
   ]
  },
  {
   "cell_type": "code",
   "execution_count": 10,
   "metadata": {},
   "outputs": [
    {
     "data": {
      "image/png": "[encoded data removed]",
      "text/plain": [
       "<Figure size 864x432 with 1 Axes>"
      ]
     },
     "metadata": {
      "needs_background": "light"
     },
     "output_type": "display_data"
    }
   ],
   "source": [
    "df['Close'].plot(figsize=(12,6), linewidth=2, fontsize=12)\n",
    "plt.ylabel('Price', fontsize=12)\n",
    "plt.xlabel('Time', fontsize=12)\n",
    "plt.title(\"Tesla's Price\", fontsize=15)\n",
    "plt.show()"
   ]
  },
  {
   "cell_type": "code",
   "execution_count": 11,
   "metadata": {},
   "outputs": [
    {
     "data": {
      "image/png": "[encoded data removed]",
      "text/plain": [
       "<Figure size 864x432 with 1 Axes>"
      ]
     },
     "metadata": {
      "needs_background": "light"
     },
     "output_type": "display_data"
    }
   ],
   "source": [
    "df['Return'].plot(style=['-'],figsize=(12,6), linewidth=2, fontsize=12 )\n",
    "plt.ylabel('Price', fontsize=12)\n",
    "plt.xlabel('Time',fontsize=12)\n",
    "plt.title('Return Rate', fontsize=15)\n",
    "plt.show()"
   ]
  },
  {
   "cell_type": "markdown",
   "metadata": {},
   "source": [
    "Next step, I will only keep 'Date' and 'Close' columns to put in the ARIMA model."
   ]
  },
  {
   "cell_type": "code",
   "execution_count": 17,
   "metadata": {},
   "outputs": [],
   "source": [
    "price=pd.DataFrame(df['Close'])"
   ]
  },
  {
   "cell_type": "code",
   "execution_count": 18,
   "metadata": {},
   "outputs": [
    {
     "data": {
      "text/html": [
       "<div>\n",
       "<style scoped>\n",
       "    .dataframe tbody tr th:only-of-type {\n",
       "        vertical-align: middle;\n",
       "    }\n",
       "\n",
       "    .dataframe tbody tr th {\n",
       "        vertical-align: top;\n",
       "    }\n",
       "\n",
       "    .dataframe thead th {\n",
       "        text-align: right;\n",
       "    }\n",
       "</style>\n",
       "<table border=\"1\" class=\"dataframe\">\n",
       "  <thead>\n",
       "    <tr style=\"text-align: right;\">\n",
       "      <th></th>\n",
       "      <th>Close</th>\n",
       "    </tr>\n",
       "    <tr>\n",
       "      <th>Date</th>\n",
       "      <th></th>\n",
       "    </tr>\n",
       "  </thead>\n",
       "  <tbody>\n",
       "    <tr>\n",
       "      <th>2019-05-01</th>\n",
       "      <td>46.801998</td>\n",
       "    </tr>\n",
       "    <tr>\n",
       "      <th>2019-05-02</th>\n",
       "      <td>48.820000</td>\n",
       "    </tr>\n",
       "    <tr>\n",
       "      <th>2019-05-03</th>\n",
       "      <td>51.006001</td>\n",
       "    </tr>\n",
       "    <tr>\n",
       "      <th>2019-05-06</th>\n",
       "      <td>51.068001</td>\n",
       "    </tr>\n",
       "    <tr>\n",
       "      <th>2019-05-07</th>\n",
       "      <td>49.411999</td>\n",
       "    </tr>\n",
       "  </tbody>\n",
       "</table>\n",
       "</div>"
      ],
      "text/plain": [
       "                Close\n",
       "Date                 \n",
       "2019-05-01  46.801998\n",
       "2019-05-02  48.820000\n",
       "2019-05-03  51.006001\n",
       "2019-05-06  51.068001\n",
       "2019-05-07  49.411999"
      ]
     },
     "execution_count": 18,
     "metadata": {},
     "output_type": "execute_result"
    }
   ],
   "source": [
    "price.head()"
   ]
  },
  {
   "cell_type": "code",
   "execution_count": null,
   "metadata": {},
   "outputs": [],
   "source": []
  },
  {
   "cell_type": "code",
   "execution_count": null,
   "metadata": {},
   "outputs": [],
   "source": []
  },
  {
   "cell_type": "code",
   "execution_count": null,
   "metadata": {},
   "outputs": [],
   "source": []
  },
  {
   "cell_type": "code",
   "execution_count": null,
   "metadata": {},
   "outputs": [],
   "source": []
  }
 ],
 "metadata": {
  "kernelspec": {
   "display_name": "Python 3",
   "language": "python",
   "name": "python3"
  },
  "language_info": {
   "codemirror_mode": {
    "name": "ipython",
    "version": 3
   },
   "file_extension": ".py",
   "mimetype": "text/x-python",
   "name": "python",
   "nbconvert_exporter": "python",
   "pygments_lexer": "ipython3",
   "version": "3.7.6"
  }
 },
 "nbformat": 4,
 "nbformat_minor": 4
}
