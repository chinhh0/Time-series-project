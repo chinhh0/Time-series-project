{
 "cells": [
  {
   "cell_type": "code",
   "execution_count": 1,
   "metadata": {},
   "outputs": [],
   "source": [
    "import pandas as pd\n",
    "import numpy as np\n",
    "import matplotlib.pyplot as plt"
   ]
  },
  {
   "cell_type": "code",
   "execution_count": 2,
   "metadata": {},
   "outputs": [],
   "source": [
    "df=pd.read_csv('TSLA.csv')"
   ]
  },
  {
   "cell_type": "code",
   "execution_count": 3,
   "metadata": {},
   "outputs": [
    {
     "data": {
      "text/html": [
       "<div>\n",
       "<style scoped>\n",
       "    .dataframe tbody tr th:only-of-type {\n",
       "        vertical-align: middle;\n",
       "    }\n",
       "\n",
       "    .dataframe tbody tr th {\n",
       "        vertical-align: top;\n",
       "    }\n",
       "\n",
       "    .dataframe thead th {\n",
       "        text-align: right;\n",
       "    }\n",
       "</style>\n",
       "<table border=\"1\" class=\"dataframe\">\n",
       "  <thead>\n",
       "    <tr style=\"text-align: right;\">\n",
       "      <th></th>\n",
       "      <th>Date</th>\n",
       "      <th>Open</th>\n",
       "      <th>High</th>\n",
       "      <th>Low</th>\n",
       "      <th>Close</th>\n",
       "      <th>Adj Close</th>\n",
       "      <th>Volume</th>\n",
       "    </tr>\n",
       "  </thead>\n",
       "  <tbody>\n",
       "    <tr>\n",
       "      <th>0</th>\n",
       "      <td>2016-05-12</td>\n",
       "      <td>42.287998</td>\n",
       "      <td>42.334000</td>\n",
       "      <td>40.731998</td>\n",
       "      <td>41.456001</td>\n",
       "      <td>41.456001</td>\n",
       "      <td>18252500</td>\n",
       "    </tr>\n",
       "    <tr>\n",
       "      <th>1</th>\n",
       "      <td>2016-05-13</td>\n",
       "      <td>41.556000</td>\n",
       "      <td>42.240002</td>\n",
       "      <td>41.340000</td>\n",
       "      <td>41.521999</td>\n",
       "      <td>41.521999</td>\n",
       "      <td>14114000</td>\n",
       "    </tr>\n",
       "    <tr>\n",
       "      <th>2</th>\n",
       "      <td>2016-05-16</td>\n",
       "      <td>41.630001</td>\n",
       "      <td>42.630001</td>\n",
       "      <td>41.584000</td>\n",
       "      <td>41.658001</td>\n",
       "      <td>41.658001</td>\n",
       "      <td>14747000</td>\n",
       "    </tr>\n",
       "    <tr>\n",
       "      <th>3</th>\n",
       "      <td>2016-05-17</td>\n",
       "      <td>41.810001</td>\n",
       "      <td>41.964001</td>\n",
       "      <td>40.804001</td>\n",
       "      <td>40.931999</td>\n",
       "      <td>40.931999</td>\n",
       "      <td>14218000</td>\n",
       "    </tr>\n",
       "    <tr>\n",
       "      <th>4</th>\n",
       "      <td>2016-05-18</td>\n",
       "      <td>41.830002</td>\n",
       "      <td>43.062000</td>\n",
       "      <td>41.549999</td>\n",
       "      <td>42.234001</td>\n",
       "      <td>42.234001</td>\n",
       "      <td>28087500</td>\n",
       "    </tr>\n",
       "  </tbody>\n",
       "</table>\n",
       "</div>"
      ],
      "text/plain": [
       "         Date       Open       High        Low      Close  Adj Close    Volume\n",
       "0  2016-05-12  42.287998  42.334000  40.731998  41.456001  41.456001  18252500\n",
       "1  2016-05-13  41.556000  42.240002  41.340000  41.521999  41.521999  14114000\n",
       "2  2016-05-16  41.630001  42.630001  41.584000  41.658001  41.658001  14747000\n",
       "3  2016-05-17  41.810001  41.964001  40.804001  40.931999  40.931999  14218000\n",
       "4  2016-05-18  41.830002  43.062000  41.549999  42.234001  42.234001  28087500"
      ]
     },
     "execution_count": 3,
     "metadata": {},
     "output_type": "execute_result"
    }
   ],
   "source": [
    "df.head()"
   ]
  },
  {
   "cell_type": "code",
   "execution_count": 4,
   "metadata": {},
   "outputs": [
    {
     "data": {
      "text/html": [
       "<div>\n",
       "<style scoped>\n",
       "    .dataframe tbody tr th:only-of-type {\n",
       "        vertical-align: middle;\n",
       "    }\n",
       "\n",
       "    .dataframe tbody tr th {\n",
       "        vertical-align: top;\n",
       "    }\n",
       "\n",
       "    .dataframe thead th {\n",
       "        text-align: right;\n",
       "    }\n",
       "</style>\n",
       "<table border=\"1\" class=\"dataframe\">\n",
       "  <thead>\n",
       "    <tr style=\"text-align: right;\">\n",
       "      <th></th>\n",
       "      <th>Open</th>\n",
       "      <th>High</th>\n",
       "      <th>Low</th>\n",
       "      <th>Close</th>\n",
       "      <th>Adj Close</th>\n",
       "      <th>Volume</th>\n",
       "    </tr>\n",
       "  </thead>\n",
       "  <tbody>\n",
       "    <tr>\n",
       "      <th>count</th>\n",
       "      <td>1258.000000</td>\n",
       "      <td>1258.000000</td>\n",
       "      <td>1258.000000</td>\n",
       "      <td>1258.000000</td>\n",
       "      <td>1258.000000</td>\n",
       "      <td>1.258000e+03</td>\n",
       "    </tr>\n",
       "    <tr>\n",
       "      <th>mean</th>\n",
       "      <td>151.827199</td>\n",
       "      <td>155.257059</td>\n",
       "      <td>148.020668</td>\n",
       "      <td>151.893451</td>\n",
       "      <td>151.893451</td>\n",
       "      <td>4.429620e+07</td>\n",
       "    </tr>\n",
       "    <tr>\n",
       "      <th>std</th>\n",
       "      <td>201.985494</td>\n",
       "      <td>206.634490</td>\n",
       "      <td>196.415051</td>\n",
       "      <td>201.972000</td>\n",
       "      <td>201.972000</td>\n",
       "      <td>3.057539e+07</td>\n",
       "    </tr>\n",
       "    <tr>\n",
       "      <th>min</th>\n",
       "      <td>36.220001</td>\n",
       "      <td>36.945999</td>\n",
       "      <td>35.397999</td>\n",
       "      <td>35.793999</td>\n",
       "      <td>35.793999</td>\n",
       "      <td>8.297500e+06</td>\n",
       "    </tr>\n",
       "    <tr>\n",
       "      <th>25%</th>\n",
       "      <td>51.002499</td>\n",
       "      <td>51.666999</td>\n",
       "      <td>50.036999</td>\n",
       "      <td>50.960001</td>\n",
       "      <td>50.960001</td>\n",
       "      <td>2.459650e+07</td>\n",
       "    </tr>\n",
       "    <tr>\n",
       "      <th>50%</th>\n",
       "      <td>63.959000</td>\n",
       "      <td>65.149997</td>\n",
       "      <td>62.941999</td>\n",
       "      <td>64.195004</td>\n",
       "      <td>64.195004</td>\n",
       "      <td>3.498640e+07</td>\n",
       "    </tr>\n",
       "    <tr>\n",
       "      <th>75%</th>\n",
       "      <td>108.738499</td>\n",
       "      <td>110.979002</td>\n",
       "      <td>103.131001</td>\n",
       "      <td>107.783498</td>\n",
       "      <td>107.783498</td>\n",
       "      <td>5.227275e+07</td>\n",
       "    </tr>\n",
       "    <tr>\n",
       "      <th>max</th>\n",
       "      <td>891.380005</td>\n",
       "      <td>900.400024</td>\n",
       "      <td>871.599976</td>\n",
       "      <td>883.090027</td>\n",
       "      <td>883.090027</td>\n",
       "      <td>3.046940e+08</td>\n",
       "    </tr>\n",
       "  </tbody>\n",
       "</table>\n",
       "</div>"
      ],
      "text/plain": [
       "              Open         High          Low        Close    Adj Close  \\\n",
       "count  1258.000000  1258.000000  1258.000000  1258.000000  1258.000000   \n",
       "mean    151.827199   155.257059   148.020668   151.893451   151.893451   \n",
       "std     201.985494   206.634490   196.415051   201.972000   201.972000   \n",
       "min      36.220001    36.945999    35.397999    35.793999    35.793999   \n",
       "25%      51.002499    51.666999    50.036999    50.960001    50.960001   \n",
       "50%      63.959000    65.149997    62.941999    64.195004    64.195004   \n",
       "75%     108.738499   110.979002   103.131001   107.783498   107.783498   \n",
       "max     891.380005   900.400024   871.599976   883.090027   883.090027   \n",
       "\n",
       "             Volume  \n",
       "count  1.258000e+03  \n",
       "mean   4.429620e+07  \n",
       "std    3.057539e+07  \n",
       "min    8.297500e+06  \n",
       "25%    2.459650e+07  \n",
       "50%    3.498640e+07  \n",
       "75%    5.227275e+07  \n",
       "max    3.046940e+08  "
      ]
     },
     "execution_count": 4,
     "metadata": {},
     "output_type": "execute_result"
    }
   ],
   "source": [
    "df.describe()"
   ]
  },
  {
   "cell_type": "markdown",
   "metadata": {},
   "source": [
    "There are abundant columns, so I will only focus on Close column."
   ]
  },
  {
   "cell_type": "code",
   "execution_count": 5,
   "metadata": {},
   "outputs": [
    {
     "data": {
      "text/plain": [
       "count    1258.000000\n",
       "mean      151.893451\n",
       "std       201.972000\n",
       "min        35.793999\n",
       "25%        50.960001\n",
       "50%        64.195004\n",
       "75%       107.783498\n",
       "max       883.090027\n",
       "Name: Close, dtype: float64"
      ]
     },
     "execution_count": 5,
     "metadata": {},
     "output_type": "execute_result"
    }
   ],
   "source": [
    "df['Close'].describe()"
   ]
  },
  {
   "cell_type": "markdown",
   "metadata": {},
   "source": [
    "I will explain something about the information above. I have 505 observations in this dataset in two years that make sense because the market closes on Saturday and Sunday.\n",
    "The min was only 35 compare to the max was 883, which means Tesla is overgrowing. The Standard Deviation was huge, which means it volatility asset (a very risky asset).\n",
    "The median was 160 compare to the max.  The skewness is coming from the fact that in the last year, we see that Tesla's price has moved from 160 to 883. This dataset is hugely skewed."
   ]
  },
  {
   "cell_type": "markdown",
   "metadata": {},
   "source": [
    "The important thing in finance or investment is the Return. The Return is the percentage change, and I will calculate the Return using \"Adj Close\" columns."
   ]
  },
  {
   "cell_type": "code",
   "execution_count": 6,
   "metadata": {},
   "outputs": [],
   "source": [
    "df['Return']=df['Adj Close'].pct_change()"
   ]
  },
  {
   "cell_type": "code",
   "execution_count": 7,
   "metadata": {},
   "outputs": [
    {
     "data": {
      "text/html": [
       "<div>\n",
       "<style scoped>\n",
       "    .dataframe tbody tr th:only-of-type {\n",
       "        vertical-align: middle;\n",
       "    }\n",
       "\n",
       "    .dataframe tbody tr th {\n",
       "        vertical-align: top;\n",
       "    }\n",
       "\n",
       "    .dataframe thead th {\n",
       "        text-align: right;\n",
       "    }\n",
       "</style>\n",
       "<table border=\"1\" class=\"dataframe\">\n",
       "  <thead>\n",
       "    <tr style=\"text-align: right;\">\n",
       "      <th></th>\n",
       "      <th>Date</th>\n",
       "      <th>Open</th>\n",
       "      <th>High</th>\n",
       "      <th>Low</th>\n",
       "      <th>Close</th>\n",
       "      <th>Adj Close</th>\n",
       "      <th>Volume</th>\n",
       "      <th>Return</th>\n",
       "    </tr>\n",
       "  </thead>\n",
       "  <tbody>\n",
       "    <tr>\n",
       "      <th>0</th>\n",
       "      <td>2016-05-12</td>\n",
       "      <td>42.287998</td>\n",
       "      <td>42.334000</td>\n",
       "      <td>40.731998</td>\n",
       "      <td>41.456001</td>\n",
       "      <td>41.456001</td>\n",
       "      <td>18252500</td>\n",
       "      <td>NaN</td>\n",
       "    </tr>\n",
       "    <tr>\n",
       "      <th>1</th>\n",
       "      <td>2016-05-13</td>\n",
       "      <td>41.556000</td>\n",
       "      <td>42.240002</td>\n",
       "      <td>41.340000</td>\n",
       "      <td>41.521999</td>\n",
       "      <td>41.521999</td>\n",
       "      <td>14114000</td>\n",
       "      <td>0.001592</td>\n",
       "    </tr>\n",
       "    <tr>\n",
       "      <th>2</th>\n",
       "      <td>2016-05-16</td>\n",
       "      <td>41.630001</td>\n",
       "      <td>42.630001</td>\n",
       "      <td>41.584000</td>\n",
       "      <td>41.658001</td>\n",
       "      <td>41.658001</td>\n",
       "      <td>14747000</td>\n",
       "      <td>0.003275</td>\n",
       "    </tr>\n",
       "    <tr>\n",
       "      <th>3</th>\n",
       "      <td>2016-05-17</td>\n",
       "      <td>41.810001</td>\n",
       "      <td>41.964001</td>\n",
       "      <td>40.804001</td>\n",
       "      <td>40.931999</td>\n",
       "      <td>40.931999</td>\n",
       "      <td>14218000</td>\n",
       "      <td>-0.017428</td>\n",
       "    </tr>\n",
       "    <tr>\n",
       "      <th>4</th>\n",
       "      <td>2016-05-18</td>\n",
       "      <td>41.830002</td>\n",
       "      <td>43.062000</td>\n",
       "      <td>41.549999</td>\n",
       "      <td>42.234001</td>\n",
       "      <td>42.234001</td>\n",
       "      <td>28087500</td>\n",
       "      <td>0.031809</td>\n",
       "    </tr>\n",
       "  </tbody>\n",
       "</table>\n",
       "</div>"
      ],
      "text/plain": [
       "         Date       Open       High        Low      Close  Adj Close  \\\n",
       "0  2016-05-12  42.287998  42.334000  40.731998  41.456001  41.456001   \n",
       "1  2016-05-13  41.556000  42.240002  41.340000  41.521999  41.521999   \n",
       "2  2016-05-16  41.630001  42.630001  41.584000  41.658001  41.658001   \n",
       "3  2016-05-17  41.810001  41.964001  40.804001  40.931999  40.931999   \n",
       "4  2016-05-18  41.830002  43.062000  41.549999  42.234001  42.234001   \n",
       "\n",
       "     Volume    Return  \n",
       "0  18252500       NaN  \n",
       "1  14114000  0.001592  \n",
       "2  14747000  0.003275  \n",
       "3  14218000 -0.017428  \n",
       "4  28087500  0.031809  "
      ]
     },
     "execution_count": 7,
     "metadata": {},
     "output_type": "execute_result"
    }
   ],
   "source": [
    "df.head()"
   ]
  },
  {
   "cell_type": "code",
   "execution_count": 8,
   "metadata": {},
   "outputs": [
    {
     "data": {
      "text/plain": [
       "Date         0\n",
       "Open         0\n",
       "High         0\n",
       "Low          0\n",
       "Close        0\n",
       "Adj Close    0\n",
       "Volume       0\n",
       "Return       1\n",
       "dtype: int64"
      ]
     },
     "execution_count": 8,
     "metadata": {},
     "output_type": "execute_result"
    }
   ],
   "source": [
    "df.isna().sum()"
   ]
  },
  {
   "cell_type": "code",
   "execution_count": 9,
   "metadata": {},
   "outputs": [],
   "source": [
    "df.set_index('Date', inplace=True)"
   ]
  },
  {
   "cell_type": "markdown",
   "metadata": {},
   "source": [
    "Let's do some visualization to make the data more transparent."
   ]
  },
  {
   "cell_type": "code",
   "execution_count": 10,
   "metadata": {},
   "outputs": [
    {
     "data": {
      "image/png": "[encoded data removed]",
      "text/plain": [
       "<Figure size 864x432 with 1 Axes>"
      ]
     },
     "metadata": {
      "needs_background": "light"
     },
     "output_type": "display_data"
    }
   ],
   "source": [
    "df['Close'].plot(figsize=(12,6), linewidth=2, fontsize=12)\n",
    "plt.ylabel('Price', fontsize=12)\n",
    "plt.xlabel('Time', fontsize=12)\n",
    "plt.title(\"Tesla's Price\", fontsize=15)\n",
    "plt.show()"
   ]
  },
  {
   "cell_type": "code",
   "execution_count": 11,
   "metadata": {},
   "outputs": [
    {
     "data": {
      "image/png": "[encoded data removed]",
      "text/plain": [
       "<Figure size 864x432 with 1 Axes>"
      ]
     },
     "metadata": {
      "needs_background": "light"
     },
     "output_type": "display_data"
    }
   ],
   "source": [
    "df['Return'].plot(style=['-'],figsize=(12,6), linewidth=2, fontsize=12 )\n",
    "plt.ylabel('Price', fontsize=12)\n",
    "plt.xlabel('Time',fontsize=12)\n",
    "plt.title('Return Rate', fontsize=15)\n",
    "plt.show()"
   ]
  },
  {
   "cell_type": "markdown",
   "metadata": {},
   "source": [
    "Next step, I will only keep 'Date' and 'Close' columns to put in the ARIMA model."
   ]
  },
  {
   "cell_type": "code",
   "execution_count": 12,
   "metadata": {},
   "outputs": [],
   "source": [
    "price=pd.DataFrame(df['Close'])"
   ]
  },
  {
   "cell_type": "code",
   "execution_count": 13,
   "metadata": {},
   "outputs": [
    {
     "data": {
      "text/html": [
       "<div>\n",
       "<style scoped>\n",
       "    .dataframe tbody tr th:only-of-type {\n",
       "        vertical-align: middle;\n",
       "    }\n",
       "\n",
       "    .dataframe tbody tr th {\n",
       "        vertical-align: top;\n",
       "    }\n",
       "\n",
       "    .dataframe thead th {\n",
       "        text-align: right;\n",
       "    }\n",
       "</style>\n",
       "<table border=\"1\" class=\"dataframe\">\n",
       "  <thead>\n",
       "    <tr style=\"text-align: right;\">\n",
       "      <th></th>\n",
       "      <th>Close</th>\n",
       "    </tr>\n",
       "    <tr>\n",
       "      <th>Date</th>\n",
       "      <th></th>\n",
       "    </tr>\n",
       "  </thead>\n",
       "  <tbody>\n",
       "    <tr>\n",
       "      <th>2016-05-12</th>\n",
       "      <td>41.456001</td>\n",
       "    </tr>\n",
       "    <tr>\n",
       "      <th>2016-05-13</th>\n",
       "      <td>41.521999</td>\n",
       "    </tr>\n",
       "    <tr>\n",
       "      <th>2016-05-16</th>\n",
       "      <td>41.658001</td>\n",
       "    </tr>\n",
       "    <tr>\n",
       "      <th>2016-05-17</th>\n",
       "      <td>40.931999</td>\n",
       "    </tr>\n",
       "    <tr>\n",
       "      <th>2016-05-18</th>\n",
       "      <td>42.234001</td>\n",
       "    </tr>\n",
       "  </tbody>\n",
       "</table>\n",
       "</div>"
      ],
      "text/plain": [
       "                Close\n",
       "Date                 \n",
       "2016-05-12  41.456001\n",
       "2016-05-13  41.521999\n",
       "2016-05-16  41.658001\n",
       "2016-05-17  40.931999\n",
       "2016-05-18  42.234001"
      ]
     },
     "execution_count": 13,
     "metadata": {},
     "output_type": "execute_result"
    }
   ],
   "source": [
    "price.head()"
   ]
  },
  {
   "cell_type": "markdown",
   "metadata": {},
   "source": [
    "\n",
    "# Decomposition"
   ]
  },
  {
   "cell_type": "markdown",
   "metadata": {},
   "source": [
    "We can see there is a mix upward and downward trend in our price. We can use statsmodels to perform a decomposition of this time series.With statsmodels we will be able to see the trend, seasonal, and residual components of our data."
   ]
  },
  {
   "cell_type": "code",
   "execution_count": 15,
   "metadata": {},
   "outputs": [
    {
     "data": {
      "image/png": "[encoded data removed]",
      "text/plain": [
       "<Figure size 432x288 with 4 Axes>"
      ]
     },
     "metadata": {
      "needs_background": "light"
     },
     "output_type": "display_data"
    }
   ],
   "source": [
    "\n",
    "from matplotlib import pyplot\n",
    "from statsmodels.tsa.seasonal import seasonal_decompose\n",
    "\n",
    "result = seasonal_decompose(price, model='multiplicative', period=5)\n",
    "result.plot()\n",
    "pyplot.show()"
   ]
  },
  {
   "cell_type": "code",
   "execution_count": null,
   "metadata": {},
   "outputs": [],
   "source": []
  },
  {
   "cell_type": "code",
   "execution_count": null,
   "metadata": {},
   "outputs": [],
   "source": []
  }
 ],
 "metadata": {
  "kernelspec": {
   "display_name": "Python 3",
   "language": "python",
   "name": "python3"
  },
  "language_info": {
   "codemirror_mode": {
    "name": "ipython",
    "version": 3
   },
   "file_extension": ".py",
   "mimetype": "text/x-python",
   "name": "python",
   "nbconvert_exporter": "python",
   "pygments_lexer": "ipython3",
   "version": "3.7.6"
  }
 },
 "nbformat": 4,
 "nbformat_minor": 4
}
